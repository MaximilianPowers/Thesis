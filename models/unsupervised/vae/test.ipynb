{
 "cells": [
  {
   "cell_type": "code",
   "execution_count": 6,
   "metadata": {},
   "outputs": [],
   "source": [
    "import sys\n",
    "sys.path.append('../../../')\n",
    "from models.unsupervised.vae.model import VAE, Decoder, Encoder\n",
    "from sklearn.feature_selection import mutual_info_regression\n",
    "import numpy as np\n",
    "import pickle as pkl\n",
    "import torch\n",
    "\n",
    "def compute_mig(true_latents, learned_latents):\n",
    "    num_latents = true_latents.shape[1]\n",
    "    mi_matrix = np.zeros((num_latents, num_latents))\n",
    "    \n",
    "    for i in range(num_latents):\n",
    "        for j in range(num_latents):\n",
    "            mi_matrix[i, j] = mutual_info_regression(true_latents[:, i].reshape(-1, 1), learned_latents[:, j])[0]\n",
    "    \n",
    "    mi_sorted = np.sort(mi_matrix, axis=1)\n",
    "    gaps = mi_sorted[:, -1] - mi_sorted[:, -2]\n",
    "    mig_score = np.mean(gaps)\n",
    "    \n",
    "    return mig_score\n",
    "from sklearn.ensemble import RandomForestClassifier\n",
    "\n",
    "def compute_factorvae_score(true_latents, learned_latents):\n",
    "    num_latents = true_latents.shape[1]\n",
    "    accuracy_scores = []\n",
    "    \n",
    "    for i in range(num_latents):\n",
    "        classifier = RandomForestClassifier()\n",
    "        classifier.fit(learned_latents, true_latents[:, i])\n",
    "        accuracy = classifier.score(learned_latents, true_latents[:, i])\n",
    "        accuracy_scores.append(accuracy)\n",
    "        \n",
    "    factorvae_score = np.mean(accuracy_scores)\n",
    "    \n",
    "    return factorvae_score\n",
    "\n"
   ]
  },
  {
   "cell_type": "code",
   "execution_count": 8,
   "metadata": {},
   "outputs": [
    {
     "data": {
      "text/plain": [
       "<All keys matched successfully>"
      ]
     },
     "execution_count": 8,
     "metadata": {},
     "output_type": "execute_result"
    }
   ],
   "source": [
    "model_name = \"vae\"\n",
    "size = \"disentangled_3\"\n",
    "epoch = 1800\n",
    "\n",
    "\n",
    "models_path = f\"../../../models/unsupervised/{model_name}/saved_models\"\n",
    "res_q_25, res_med, res_q_75 = [], [], []\n",
    "with open(f'{models_path}/{size}/dataset.pkl', 'rb') as f:\n",
    "\tdataset = pkl.load(f)\n",
    "\n",
    "features = [64, 32, 16, 8 ,4]\n",
    "encoder = Encoder(in_features=32, features=features, out_features=2)\n",
    "decoder = Decoder(in_features=2, features=list(reversed(features)), out_features=32)\n",
    "vae = VAE(encoder, decoder)\n",
    "\n",
    "vae.load_state_dict(torch.load(f\"{models_path}/{size}/model_{epoch}.pth\"))"
   ]
  },
  {
   "cell_type": "code",
   "execution_count": 17,
   "metadata": {},
   "outputs": [],
   "source": [
    "true_latents = dataset.y.detach().numpy()\n",
    "mu, log_var =  vae.encoder(dataset.X)\n",
    "learned_latents = vae.reparameterize(mu, log_var).detach().numpy()"
   ]
  },
  {
   "cell_type": "code",
   "execution_count": 18,
   "metadata": {},
   "outputs": [
    {
     "ename": "ValueError",
     "evalue": "Unknown label type: 'continuous'",
     "output_type": "error",
     "traceback": [
      "\u001b[0;31m---------------------------------------------------------------------------\u001b[0m",
      "\u001b[0;31mValueError\u001b[0m                                Traceback (most recent call last)",
      "Cell \u001b[0;32mIn[18], line 3\u001b[0m\n\u001b[1;32m      1\u001b[0m \u001b[39m# Compute MIG and FactorVAE Score\u001b[39;00m\n\u001b[1;32m      2\u001b[0m mig_score \u001b[39m=\u001b[39m compute_mig(true_latents, learned_latents)\n\u001b[0;32m----> 3\u001b[0m factorvae_score \u001b[39m=\u001b[39m compute_factorvae_score(true_latents, learned_latents)\n\u001b[1;32m      5\u001b[0m \u001b[39mprint\u001b[39m(\u001b[39m\"\u001b[39m\u001b[39mMIG Score:\u001b[39m\u001b[39m\"\u001b[39m, mig_score)\n\u001b[1;32m      6\u001b[0m \u001b[39mprint\u001b[39m(\u001b[39m\"\u001b[39m\u001b[39mFactorVAE Score:\u001b[39m\u001b[39m\"\u001b[39m, factorvae_score)\n",
      "Cell \u001b[0;32mIn[6], line 30\u001b[0m, in \u001b[0;36mcompute_factorvae_score\u001b[0;34m(true_latents, learned_latents)\u001b[0m\n\u001b[1;32m     28\u001b[0m \u001b[39mfor\u001b[39;00m i \u001b[39min\u001b[39;00m \u001b[39mrange\u001b[39m(num_latents):\n\u001b[1;32m     29\u001b[0m     classifier \u001b[39m=\u001b[39m RandomForestClassifier()\n\u001b[0;32m---> 30\u001b[0m     classifier\u001b[39m.\u001b[39;49mfit(learned_latents, true_latents[:, i])\n\u001b[1;32m     31\u001b[0m     accuracy \u001b[39m=\u001b[39m classifier\u001b[39m.\u001b[39mscore(learned_latents, true_latents[:, i])\n\u001b[1;32m     32\u001b[0m     accuracy_scores\u001b[39m.\u001b[39mappend(accuracy)\n",
      "File \u001b[0;32m~/miniconda3/envs/DL/lib/python3.10/site-packages/sklearn/ensemble/_forest.py:385\u001b[0m, in \u001b[0;36mBaseForest.fit\u001b[0;34m(self, X, y, sample_weight)\u001b[0m\n\u001b[1;32m    378\u001b[0m         \u001b[39mraise\u001b[39;00m \u001b[39mValueError\u001b[39;00m(\n\u001b[1;32m    379\u001b[0m             \u001b[39m\"\u001b[39m\u001b[39mSum of y is not strictly positive which \u001b[39m\u001b[39m\"\u001b[39m\n\u001b[1;32m    380\u001b[0m             \u001b[39m\"\u001b[39m\u001b[39mis necessary for Poisson regression.\u001b[39m\u001b[39m\"\u001b[39m\n\u001b[1;32m    381\u001b[0m         )\n\u001b[1;32m    383\u001b[0m \u001b[39mself\u001b[39m\u001b[39m.\u001b[39mn_outputs_ \u001b[39m=\u001b[39m y\u001b[39m.\u001b[39mshape[\u001b[39m1\u001b[39m]\n\u001b[0;32m--> 385\u001b[0m y, expanded_class_weight \u001b[39m=\u001b[39m \u001b[39mself\u001b[39;49m\u001b[39m.\u001b[39;49m_validate_y_class_weight(y)\n\u001b[1;32m    387\u001b[0m \u001b[39mif\u001b[39;00m \u001b[39mgetattr\u001b[39m(y, \u001b[39m\"\u001b[39m\u001b[39mdtype\u001b[39m\u001b[39m\"\u001b[39m, \u001b[39mNone\u001b[39;00m) \u001b[39m!=\u001b[39m DOUBLE \u001b[39mor\u001b[39;00m \u001b[39mnot\u001b[39;00m y\u001b[39m.\u001b[39mflags\u001b[39m.\u001b[39mcontiguous:\n\u001b[1;32m    388\u001b[0m     y \u001b[39m=\u001b[39m np\u001b[39m.\u001b[39mascontiguousarray(y, dtype\u001b[39m=\u001b[39mDOUBLE)\n",
      "File \u001b[0;32m~/miniconda3/envs/DL/lib/python3.10/site-packages/sklearn/ensemble/_forest.py:746\u001b[0m, in \u001b[0;36mForestClassifier._validate_y_class_weight\u001b[0;34m(self, y)\u001b[0m\n\u001b[1;32m    745\u001b[0m \u001b[39mdef\u001b[39;00m \u001b[39m_validate_y_class_weight\u001b[39m(\u001b[39mself\u001b[39m, y):\n\u001b[0;32m--> 746\u001b[0m     check_classification_targets(y)\n\u001b[1;32m    748\u001b[0m     y \u001b[39m=\u001b[39m np\u001b[39m.\u001b[39mcopy(y)\n\u001b[1;32m    749\u001b[0m     expanded_class_weight \u001b[39m=\u001b[39m \u001b[39mNone\u001b[39;00m\n",
      "File \u001b[0;32m~/miniconda3/envs/DL/lib/python3.10/site-packages/sklearn/utils/multiclass.py:218\u001b[0m, in \u001b[0;36mcheck_classification_targets\u001b[0;34m(y)\u001b[0m\n\u001b[1;32m    210\u001b[0m y_type \u001b[39m=\u001b[39m type_of_target(y, input_name\u001b[39m=\u001b[39m\u001b[39m\"\u001b[39m\u001b[39my\u001b[39m\u001b[39m\"\u001b[39m)\n\u001b[1;32m    211\u001b[0m \u001b[39mif\u001b[39;00m y_type \u001b[39mnot\u001b[39;00m \u001b[39min\u001b[39;00m [\n\u001b[1;32m    212\u001b[0m     \u001b[39m\"\u001b[39m\u001b[39mbinary\u001b[39m\u001b[39m\"\u001b[39m,\n\u001b[1;32m    213\u001b[0m     \u001b[39m\"\u001b[39m\u001b[39mmulticlass\u001b[39m\u001b[39m\"\u001b[39m,\n\u001b[0;32m   (...)\u001b[0m\n\u001b[1;32m    216\u001b[0m     \u001b[39m\"\u001b[39m\u001b[39mmultilabel-sequences\u001b[39m\u001b[39m\"\u001b[39m,\n\u001b[1;32m    217\u001b[0m ]:\n\u001b[0;32m--> 218\u001b[0m     \u001b[39mraise\u001b[39;00m \u001b[39mValueError\u001b[39;00m(\u001b[39m\"\u001b[39m\u001b[39mUnknown label type: \u001b[39m\u001b[39m%r\u001b[39;00m\u001b[39m\"\u001b[39m \u001b[39m%\u001b[39m y_type)\n",
      "\u001b[0;31mValueError\u001b[0m: Unknown label type: 'continuous'"
     ]
    }
   ],
   "source": [
    "\n",
    "# Compute MIG and FactorVAE Score\n",
    "mig_score = compute_mig(true_latents, learned_latents)\n",
    "factorvae_score = compute_factorvae_score(true_latents, learned_latents)\n",
    "\n",
    "print(\"MIG Score:\", mig_score)\n",
    "print(\"FactorVAE Score:\", factorvae_score)\n"
   ]
  }
 ],
 "metadata": {
  "kernelspec": {
   "display_name": "DL",
   "language": "python",
   "name": "python3"
  },
  "language_info": {
   "codemirror_mode": {
    "name": "ipython",
    "version": 3
   },
   "file_extension": ".py",
   "mimetype": "text/x-python",
   "name": "python",
   "nbconvert_exporter": "python",
   "pygments_lexer": "ipython3",
   "version": "3.10.9"
  },
  "orig_nbformat": 4
 },
 "nbformat": 4,
 "nbformat_minor": 2
}
