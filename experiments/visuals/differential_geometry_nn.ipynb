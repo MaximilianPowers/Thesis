{
 "cells": [
  {
   "cell_type": "code",
   "execution_count": 1,
   "metadata": {},
   "outputs": [],
   "source": [
    "import sys\n",
    "import imageio\n",
    "sys.path.append('../../')\n",
    "import torch\n",
    "import numpy as np\n",
    "import pickle as pkl\n",
    "\n",
    "from experiments.visuals.plot_decision_boundary import plot_decision_boundary\n",
    "from experiments.visuals.plot_metric import plot_riemann_metric\n",
    "from experiments.visuals.plot_diff_geom import plot_geometry\n",
    "from models.supervised.mlp.model import MLP\n",
    "from models.supervised.bimt.model import BioMLP\n",
    "\n"
   ]
  },
  {
   "cell_type": "code",
   "execution_count": 2,
   "metadata": {},
   "outputs": [
    {
     "data": {
      "text/plain": [
       "<torch._C.Generator at 0x7fb3a8313a50>"
      ]
     },
     "execution_count": 2,
     "metadata": {},
     "output_type": "execute_result"
    }
   ],
   "source": [
    "np.random.seed(2)\n",
    "torch.manual_seed(2)"
   ]
  },
  {
   "cell_type": "code",
   "execution_count": 12,
   "metadata": {},
   "outputs": [
    {
     "data": {
      "text/plain": [
       "BioMLP(\n",
       "  (layers): ModuleList(\n",
       "    (0): BioLinear(\n",
       "      (linear): Linear(in_features=2, out_features=20, bias=True)\n",
       "    )\n",
       "    (1): BioLinear(\n",
       "      (linear): Linear(in_features=20, out_features=20, bias=True)\n",
       "    )\n",
       "    (2): BioLinear(\n",
       "      (linear): Linear(in_features=20, out_features=2, bias=True)\n",
       "    )\n",
       "  )\n",
       ")"
      ]
     },
     "execution_count": 12,
     "metadata": {},
     "output_type": "execute_result"
    }
   ],
   "source": [
    "model_name = \"bimt\"\n",
    "mode = 'moon'\n",
    "size=\"vanilla\"\n",
    "\n",
    "models_path = f\"../../models/supervised/{model_name}/saved_models\"\n",
    "\n",
    "with open(f\"{models_path}/{size}/{mode}/dataset.pkl\", 'rb') as f:\n",
    "    dataset = pkl.load(f)\n",
    "if model_name == \"bimt\":\n",
    "    model = BioMLP(shp=[2,20,20,2])\n",
    "elif model_name == \"mlp\":\n",
    "    if size == \"vanilla\":\n",
    "        model = MLP(2, 7, 10, 2)\n",
    "    elif size == \"overfit\":\n",
    "        model = MLP(2, 7, 2, 1)\n",
    "    elif size == \"2_wide\":\n",
    "        model = MLP(2, 7, 2, 2)\n",
    "model.eval()\n",
    "\n"
   ]
  },
  {
   "cell_type": "code",
   "execution_count": 14,
   "metadata": {},
   "outputs": [],
   "source": [
    "%%capture\n",
    "\n",
    "# Get all corresponding files:\n",
    "imgs = []\n",
    "for epoch in tqdm.tqdm(range(0, 10000, 250)):\n",
    "    model.load_state_dict(torch.load(f'../../models/supervised/{model_name}/saved_models/{size}/{mode}/model_{epoch}.pth'))\n",
    "    img = plot_decision_boundary(model, dataset.X, dataset.y, epoch, f\"./figures/{model_name}/decision_boundaries/{mode}/{size}\")\n",
    "    imgs.append(img)\n"
   ]
  },
  {
   "cell_type": "code",
   "execution_count": 15,
   "metadata": {},
   "outputs": [],
   "source": [
    "imageio.mimsave(f'./figures/{model_name}/decision_boundaries/{mode}/decision_boundary_{mode}.gif', imgs, duration=50/3)\n"
   ]
  },
  {
   "cell_type": "code",
   "execution_count": 8,
   "metadata": {},
   "outputs": [],
   "source": [
    "%%capture\n",
    "sigma = 0.05\n",
    "model = MLP(2, 7, 2, 2)\n",
    "model.eval()\n",
    "\n",
    "# Get all corresponding files:\n",
    "imgs = []\n",
    "for epoch in tqdm.tqdm(range(200)):\n",
    "    model.load_state_dict(torch.load(f'../../models/supervised/{model_name}/saved_models/{size}/{mode}/model_{epoch}.pth'))\n",
    "    img = plot_riemann_metric(model, dataset.X, dataset.y, epoch, f\"./figures/{model_name}/curvature/{mode}/{size}\")\n",
    "    imgs.append(img)\n"
   ]
  },
  {
   "cell_type": "code",
   "execution_count": 9,
   "metadata": {},
   "outputs": [],
   "source": [
    "imageio.mimsave(f'./figures/{model_name}/curvature/{mode}/riemannian_metric_{mode}.gif', imgs, duration=50/3)\n",
    "\n"
   ]
  },
  {
   "cell_type": "code",
   "execution_count": 6,
   "metadata": {},
   "outputs": [],
   "source": [
    "%%capture\n",
    "indices_zero = np.where(dataset.y == 0)[0]\n",
    "indices_one = np.where(dataset.y == 1)[0]\n",
    "\n",
    "# create arrays based on these indices\n",
    "x_a = dataset.X[indices_zero]\n",
    "x_b = dataset.X[indices_one]\n",
    "\n",
    "model = MLP(2, 7, 2, 2)\n",
    "grid_dim = 50\n",
    "\n",
    "\n",
    "imgs = []\n",
    "for epoch in tqdm.tqdm(range(200)):\n",
    "    model.load_state_dict(torch.load(f'../../models/supervised/{model_name}/saved_models/{size}/{mode}/model_{epoch}.pth'))\n",
    "    img = plot_geometry(model, x_a, x_b, epoch, grid_dim, grid_dim, \n",
    "                        plot_rows=1, plot_cols=model.num_layers+1, plot_grids_=True, \n",
    "                        plot_tensors_=False, plot_classifier_=True, \n",
    "                        save_folder=f\"./figures/{model_name}/geometry/{mode}/{size}\")\n",
    "                        \n",
    "    imgs.append(img)\n",
    "    \n",
    "\n"
   ]
  },
  {
   "cell_type": "code",
   "execution_count": 7,
   "metadata": {},
   "outputs": [],
   "source": [
    "imageio.mimsave(f'./figures/{model_name}/geometry/{mode}/geometry_{mode}.gif', imgs, duration=50/3)\n"
   ]
  },
  {
   "cell_type": "code",
   "execution_count": null,
   "metadata": {},
   "outputs": [],
   "source": [
    "# OVERFIT A 2D MODEL\n",
    "indices_zero = np.where(dataset.y == 0)[0]\n",
    "indices_one = np.where(dataset.y == 1)[0]\n",
    "\n",
    "# create arrays based on these indices\n",
    "x_a = dataset.X[indices_zero]\n",
    "x_b = dataset.X[indices_one]\n",
    "\n",
    "model = MLP(2, 7, 2, 1)\n",
    "\n",
    "grid_dim = 50\n",
    "\n",
    "epochs = [999, 1999, 2999, 3999, 4999, 5999, 6999, 7999, 8999, 9999]\n",
    "for epoch in epochs:\n",
    "    model.load_state_dict(torch.load(f'../../models/supervised/{model_name}/saved_models/{size}/{mode}/model_{epoch}.pth'))\n",
    "    plot_decision_boundary(model, dataset.X, dataset.y, epoch, f\"./figures/decision_boundaries/{mode}/overfit\")\n",
    "    plot_riemann_metric(model, dataset.X, dataset.y, epoch, f\"./figures/curvature/{mode}/overfit\")\n",
    "    plot_geometry(model, x_a, x_b, epoch, grid_dim, grid_dim, \n",
    "                        plot_rows=1, plot_cols=model.num_layers, plot_grids_=True, \n",
    "                        plot_tensors_=False, plot_classifier_=True, \n",
    "                        save_folder=f\"./figures/{model_name}/geometry/{mode}/overfit\")\n",
    "\n"
   ]
  },
  {
   "cell_type": "code",
   "execution_count": null,
   "metadata": {},
   "outputs": [],
   "source": []
  }
 ],
 "metadata": {
  "kernelspec": {
   "display_name": "DL",
   "language": "python",
   "name": "python3"
  },
  "language_info": {
   "codemirror_mode": {
    "name": "ipython",
    "version": 3
   },
   "file_extension": ".py",
   "mimetype": "text/x-python",
   "name": "python",
   "nbconvert_exporter": "python",
   "pygments_lexer": "ipython3",
   "version": "3.10.9"
  },
  "orig_nbformat": 4
 },
 "nbformat": 4,
 "nbformat_minor": 2
}
