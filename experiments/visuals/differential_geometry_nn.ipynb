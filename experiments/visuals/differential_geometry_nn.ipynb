{
 "cells": [
  {
   "cell_type": "code",
   "execution_count": 1,
   "metadata": {},
   "outputs": [],
   "source": [
    "import sys\n",
    "import imageio\n",
    "sys.path.append('../../')\n",
    "import torch\n",
    "import tqdm\n",
    "import glob\n",
    "import numpy as np\n",
    "import matplotlib.pyplot as plt\n",
    "\n",
    "from experiments.visuals.plot_decision_boundary import plot_decision_boundary\n",
    "from experiments.visuals.plot_metric import plot_riemann_metric\n",
    "from experiments.visuals.plot_diff_geom import plot_geometry\n",
    "from models.supervised.mlp.model import MLP\n",
    "from models.data.sklearn_datasets import MoonDataset, SpiralDataset, BlobsDataset, CirclesDataset"
   ]
  },
  {
   "cell_type": "code",
   "execution_count": 2,
   "metadata": {},
   "outputs": [
    {
     "data": {
      "text/plain": [
       "MLP(\n",
       "  (layers): ModuleList(\n",
       "    (0-5): 6 x Layer(\n",
       "      (act_func): Tanh()\n",
       "      (linear_map): Linear(in_features=2, out_features=2, bias=True)\n",
       "    )\n",
       "    (6): Layer(\n",
       "      (act_func): Sigmoid()\n",
       "      (linear_map): Linear(in_features=2, out_features=2, bias=True)\n",
       "    )\n",
       "  )\n",
       ")"
      ]
     },
     "execution_count": 2,
     "metadata": {},
     "output_type": "execute_result"
    }
   ],
   "source": [
    "mode = 'moon'\n",
    "if mode == 'moon':\n",
    "    dataset = MoonDataset(n_samples=1000, noise=0.01)\n",
    "elif mode == 'spiral':\n",
    "    dataset = SpiralDataset(n_samples=1000, noise=0.01)\n",
    "elif mode == 'blobs':\n",
    "    dataset = BlobsDataset(n_samples=1000, noise=0.01)\n",
    "elif mode == 'circles':\n",
    "    dataset = CirclesDataset(n_samples=1000, noise=0.01)\n",
    "model = MLP(2, 7, 2, 2)\n",
    "\n",
    "model.eval()\n",
    "\n"
   ]
  },
  {
   "cell_type": "code",
   "execution_count": 4,
   "metadata": {},
   "outputs": [],
   "source": [
    "%%capture\n",
    "# Get all corresponding files:\n",
    "imgs = []\n",
    "files = glob.glob(f'../../models/supervised/mlp/saved_models/2_wide/mlp_{mode}/*')\n",
    "for epoch in tqdm.tqdm(range(len(files))):\n",
    "    model.load_state_dict(torch.load(f'../../models/supervised/mlp/saved_models/mlp_{mode}/model_{epoch}.pth'))\n",
    "    img = plot_decision_boundary(model, dataset.X, dataset.y, epoch, f\"./figures/decision_boundaries/mlp_{mode}\")\n",
    "    imgs.append(img)\n"
   ]
  },
  {
   "cell_type": "code",
   "execution_count": 5,
   "metadata": {},
   "outputs": [],
   "source": [
    "imageio.mimsave(f'./figures/decision_boundary_{mode}.gif', imgs, duration=50/3)\n"
   ]
  },
  {
   "cell_type": "code",
   "execution_count": 17,
   "metadata": {},
   "outputs": [],
   "source": [
    "%%capture\n",
    "sigma = 0.05\n",
    "model = MLP(2, 7, 2, 2)\n",
    "model.eval()\n",
    "\n",
    "# Get all corresponding files:\n",
    "imgs = []\n",
    "files = glob.glob(f'../../models/supervised/mlp/saved_models/2_wide/mlp_{mode}/*')\n",
    "for epoch in tqdm.tqdm(range(len(files))):\n",
    "    model.load_state_dict(torch.load(f'../../models/supervised/mlp/saved_models/2_wide/mlp_{mode}/model_{epoch}.pth'))\n",
    "    img = plot_riemann_metric(model, dataset.X, dataset.y, epoch, f\"./figures/curvature/mlp_{mode}\")\n",
    "    imgs.append(img)\n"
   ]
  },
  {
   "cell_type": "code",
   "execution_count": 17,
   "metadata": {},
   "outputs": [],
   "source": [
    "imageio.mimsave(f'./figures/riemannian_metric_{mode}.gif', imgs, duration=50/3)\n"
   ]
  },
  {
   "cell_type": "code",
   "execution_count": 18,
   "metadata": {},
   "outputs": [],
   "source": [
    "%%capture\n",
    "indices_zero = np.where(dataset.y == 0)[0]\n",
    "indices_one = np.where(dataset.y == 1)[0]\n",
    "\n",
    "# create arrays based on these indices\n",
    "x_a = dataset.X[indices_zero]\n",
    "x_b = dataset.X[indices_one]\n",
    "\n",
    "model = MLP(2, 7, 2, 2)\n",
    "grid_dim = 50\n",
    "files = glob.glob(f'../../models/supervised/mlp/saved_models/2_wide/mlp_{mode}/*')\n",
    "\n",
    "imgs = []\n",
    "for epoch in tqdm.tqdm(range(len(files))):\n",
    "    model.load_state_dict(torch.load(f'../../models/supervised/mlp/saved_models/2_wide/mlp_{mode}/model_{epoch}.pth'))\n",
    "    img = plot_geometry(model, x_a, x_b, epoch, grid_dim, grid_dim, \n",
    "                        plot_rows=1, plot_cols=model.num_layers, plot_grids_=True, \n",
    "                        plot_tensors_=False, plot_classifier_=True, \n",
    "                        save_folder=f\"./figures/geometry/mlp_{mode}\")\n",
    "    imgs.append(img)\n",
    "    \n",
    "\n"
   ]
  },
  {
   "cell_type": "code",
   "execution_count": 19,
   "metadata": {},
   "outputs": [],
   "source": [
    "imageio.mimsave(f'./figures/geometry_{mode}.gif', imgs, duration=50/3)\n"
   ]
  },
  {
   "cell_type": "code",
   "execution_count": 11,
   "metadata": {},
   "outputs": [],
   "source": [
    "# OVERFIT A 2D MODEL\n",
    "indices_zero = np.where(dataset.y == 0)[0]\n",
    "indices_one = np.where(dataset.y == 1)[0]\n",
    "\n",
    "# create arrays based on these indices\n",
    "x_a = dataset.X[indices_zero]\n",
    "x_b = dataset.X[indices_one]\n",
    "\n",
    "model = MLP(2, 7, 2, 1)\n",
    "\n",
    "grid_dim = 50\n",
    "\n",
    "epochs = [999, 1999, 2999, 3999, 4999, 5999, 6999, 7999, 8999, 9999]\n",
    "for epoch in epochs:\n",
    "    model.load_state_dict(torch.load(f'../../models/supervised/mlp/saved_models/overfit/mlp_moon/model_{epoch}.pth'))\n",
    "    plot_decision_boundary(model, dataset.X, dataset.y, epoch, f\"./figures/decision_boundaries/mlp_overfit\")\n",
    "    plot_riemann_metric(model, dataset.X, dataset.y, epoch, f\"./figures/curvature/mlp_overfit\")\n",
    "    plot_geometry(model, x_a, x_b, epoch, grid_dim, grid_dim, \n",
    "                        plot_rows=1, plot_cols=model.num_layers, plot_grids_=True, \n",
    "                        plot_tensors_=False, plot_classifier_=True, \n",
    "                        save_folder=f\"./figures/geometry/mlp_overfit\")\n",
    "\n"
   ]
  },
  {
   "cell_type": "code",
   "execution_count": null,
   "metadata": {},
   "outputs": [],
   "source": []
  }
 ],
 "metadata": {
  "kernelspec": {
   "display_name": "DL",
   "language": "python",
   "name": "python3"
  },
  "language_info": {
   "codemirror_mode": {
    "name": "ipython",
    "version": 3
   },
   "file_extension": ".py",
   "mimetype": "text/x-python",
   "name": "python",
   "nbconvert_exporter": "python",
   "pygments_lexer": "ipython3",
   "version": "3.10.9"
  },
  "orig_nbformat": 4
 },
 "nbformat": 4,
 "nbformat_minor": 2
}
