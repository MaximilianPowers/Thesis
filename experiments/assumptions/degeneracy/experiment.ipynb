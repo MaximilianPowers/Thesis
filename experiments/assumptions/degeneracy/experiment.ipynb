{
 "cells": [
  {
   "cell_type": "code",
   "execution_count": 4,
   "metadata": {},
   "outputs": [],
   "source": [
    "import sys\n",
    "import torch\n",
    "import numpy as np\n",
    "import pickle as pkl\n",
    "from tqdm import tqdm\n",
    "\n",
    "sys.path.append('../../../')\n",
    "\n",
    "from experiments.assumptions.degeneracy.script import eigenvalue_result, eigenvalue_results_large, plot_rank_train, rank_over_training\n",
    "from models.supervised.mlp.model import MLP\n",
    "from models.supervised.bimt.model import BioMLP\n",
    "from models.unsupervised.vae.model import VAE, Encoder, Decoder\n"
   ]
  },
  {
   "cell_type": "code",
   "execution_count": 5,
   "metadata": {},
   "outputs": [
    {
     "data": {
      "text/plain": [
       "<torch._C.Generator at 0x7ff4bf2c84b0>"
      ]
     },
     "execution_count": 5,
     "metadata": {},
     "output_type": "execute_result"
    }
   ],
   "source": [
    "np.random.seed(2)\n",
    "torch.manual_seed(2)"
   ]
  },
  {
   "cell_type": "code",
   "execution_count": null,
   "metadata": {},
   "outputs": [],
   "source": [
    "mode = \"moon\"\n",
    "model_name = \"mlp\"\n",
    "size = \"2_wide\"\n",
    "models_path = f\"../../../models/supervised/{model_name}/saved_models\"\n",
    "if size == \"overfit\":\n",
    "\twith open(f'{models_path}/2_wide/{mode}/dataset.pkl', 'rb') as f:\n",
    "\t\tdataset = pkl.load(f)\n",
    "else:\n",
    "\twith open(f'{models_path}/{size}/{mode}/dataset.pkl', 'rb') as f:\n",
    "\t\tdataset = pkl.load(f)\n",
    "\n",
    "for size in [\"mixup_vanilla\", \"vanilla\",  \"overfit\", \"2_wide\"]:\n",
    "\tif size == \"overfit\":\n",
    "\t\tepochs = [60, 80, 199, 9999, 999, 5]\n",
    "\telse:\n",
    "\t\tepochs = [5, 60, 80, 199]\n",
    "\tfor epoch in epochs:\n",
    "\t\tif size == \"vanilla\" or size == \"mixup_vanilla\":\n",
    "\t\t\tmodel = MLP(2,7,10,2)\n",
    "\t\telif size == \"overfit\":\n",
    "\t\t\tmodel = MLP(2,7,2,1)\n",
    "\t\telif size == \"2_wide\":\n",
    "\t\t\tmodel = MLP(2,7,2,2)\n",
    "\t\tprint(f\"Size: {size}, Epoch: {epoch}\")\n",
    "\t\tmodel.eval()\n",
    "\t\tmodel.load_state_dict(torch.load(f'{models_path}/{size}/{mode}/model_{epoch}.pth'))\n",
    "\t\tif size == \"overfit\":\n",
    "\t\t\tmodel.num_layers -= 1\n",
    "\t\t\tmodel.layers = model.layers[:-1]\n",
    "\t\tsave_path = f\"figures/{model_name}/{mode}/{size}/{epoch}/\"\n",
    "\t\teigenvalue_result(dataset.X, model, N=50, labels=dataset.y, wrt=\"output_wise\", sigma=0.05, precision=7, save_path=save_path)\n",
    "\t\teigenvalue_result(dataset.X, model, N=50, labels=dataset.y, wrt=\"layer_wise\", sigma=0.05, precision=7, save_path=save_path)"
   ]
  },
  {
   "cell_type": "code",
   "execution_count": null,
   "metadata": {},
   "outputs": [],
   "source": [
    "mode = \"blobs\"\n",
    "model_name = \"mlp\"\n",
    "size = \"vanilla\"\n",
    "with open(f'{models_path}/{size}/{mode}/dataset.pkl', 'rb') as f:\n",
    "\tdataset = pkl.load(f)\n",
    "epochs = [5, 60, 80, 199]\n",
    "\n",
    "for size in [\"vanilla\"]:\n",
    "\tfor epoch in epochs:\n",
    "\t\tif size == \"vanilla\":\n",
    "\t\t\tmodel = MLP(2,7,4,4)\n",
    "\t\tprint(f\"Size: {size}, Epoch: {epoch}\")\n",
    "\t\tmodel.eval()\n",
    "\t\tmodel.load_state_dict(torch.load(f'{models_path}/{size}/{mode}/model_{epoch}.pth'))\n",
    "\t\tsave_path = f\"figures/{model_name}/{mode}/{size}/{epoch}/\"\n",
    "\t\teigenvalue_result(dataset.X, model, N=50, labels=dataset.y, wrt=\"output_wise\", sigma=0.05, precision=7, save_path=save_path)\n",
    "\t\teigenvalue_result(dataset.X, model, N=50, labels=dataset.y, wrt=\"layer_wise\", sigma=0.05, precision=7, save_path=save_path)"
   ]
  },
  {
   "cell_type": "code",
   "execution_count": null,
   "metadata": {},
   "outputs": [],
   "source": [
    "mode=\"moon\"\n",
    "model_name = \"bimt\"\n",
    "size = \"vanilla\"\n",
    "\n",
    "model = BioMLP(shp=[2,20,20,2])\n",
    "models_path = f\"../../../models/supervised/{model_name}/saved_models\"\n",
    "\n",
    "res_q_25, res_med, res_q_75 = [], [], []\n",
    "with open(f'{models_path}/{size}/{mode}/dataset.pkl', 'rb') as f:\n",
    "\tdataset = pkl.load(f)\n",
    "\n",
    "for epoch in tqdm(range(0, 10000, 100)):\n",
    "\tmodel.load_state_dict(torch.load(f'{models_path}/{size}/{mode}/model_{epoch}.pth'))\n",
    "\tmodel.eval()\n",
    "\tsave_path = f\"figures/{model_name}/{mode}/{size}/{epoch}/\"\n",
    "\t\n",
    "\tq_25, med, q_75 = eigenvalue_results_large(dataset.X, model, N=50, wrt=\"output_wise\", sigma=0.05, precision=7, save_path=save_path)\n",
    "\tres_q_25.append(q_25)\n",
    "\tres_med.append(med)\n",
    "\tres_q_75.append(q_75)\n",
    "\n",
    "\n",
    "\t"
   ]
  },
  {
   "cell_type": "code",
   "execution_count": null,
   "metadata": {},
   "outputs": [],
   "source": [
    "plot_rank_train(res_q_25, res_med, res_q_75, savepath=f\"figures/{model_name}/{mode}/{size}/\")\n"
   ]
  },
  {
   "cell_type": "code",
   "execution_count": null,
   "metadata": {},
   "outputs": [],
   "source": [
    "mode=\"moon\"\n",
    "model_name = \"mlp\"\n",
    "size = \"overfit\"\n",
    "\n",
    "\n",
    "models_path = f\"../../../models/supervised/{model_name}/saved_models\"\n",
    "\n",
    "res_q_25, res_med, res_q_75 = [], [], []\n",
    "with open(f'{models_path}/2_wide/{mode}/dataset.pkl', 'rb') as f:\n",
    "\tdataset = pkl.load(f)\n",
    "\n",
    "for epoch in tqdm(range(0, 10000, 100)):\n",
    "\tmodel = MLP(2,7,2,1)\n",
    "\n",
    "\tmodel.load_state_dict(torch.load(f'{models_path}/{size}/{mode}/model_{epoch}.pth'))\n",
    "\tif size == \"overfit\":\n",
    "\t\tmodel.num_layers -= 1\n",
    "\t\tmodel.layers = model.layers[:-1]\n",
    "\tmodel.eval()\n",
    "\tsave_path = f\"figures/{model_name}/{mode}/{size}/{epoch}/\"\n",
    "\t\n",
    "\tq_25, med, q_75 = rank_over_training(dataset.X, model, N=50, wrt=\"output_wise\", sigma=0.05, precision=7)\n",
    "\tres_q_25.append(q_25)\n",
    "\tres_med.append(med)\n",
    "\tres_q_75.append(q_75)"
   ]
  },
  {
   "cell_type": "code",
   "execution_count": null,
   "metadata": {},
   "outputs": [],
   "source": [
    "plot_rank_train(res_q_25, res_med, res_q_75, savepath=f\"figures/{model_name}/{mode}/{size}/\")\n"
   ]
  },
  {
   "cell_type": "code",
   "execution_count": 11,
   "metadata": {},
   "outputs": [
    {
     "name": "stdout",
     "output_type": "stream",
     "text": [
      "\u001b[34mFinal\u001b[m\u001b[m                              \u001b[34mdisentangled\u001b[m\u001b[m\n",
      "\u001b[34mL0.1_C0_lr0.001_lam_sstep_lr_snone\u001b[m\u001b[m \u001b[34mdisentangled_2\u001b[m\u001b[m\n",
      "\u001b[34mL0.1_C0_lr0.002_lam_sstep_lr_sexp\u001b[m\u001b[m  \u001b[34mdisentangled_3\u001b[m\u001b[m\n"
     ]
    }
   ],
   "source": [
    "!ls ../../../models/unsupervised/vae/saved_models/disentangled_3"
   ]
  },
  {
   "cell_type": "code",
   "execution_count": 12,
   "metadata": {},
   "outputs": [],
   "source": [
    "mode=\"Final\"\n",
    "model_name = \"vae\"\n",
    "size = \"disentangled_3\"\n",
    "\n",
    "\n",
    "models_path = f\"../../../models/unsupervised/{model_name}/saved_models\"\n",
    "res_q_25, res_med, res_q_75 = [], [], []\n",
    "with open(f'{models_path}/{size}/dataset.pkl', 'rb') as f:\n",
    "\tdataset = pkl.load(f)\n"
   ]
  },
  {
   "cell_type": "code",
   "execution_count": 13,
   "metadata": {},
   "outputs": [],
   "source": [
    "features = [64, 32, 16, 8, 4]\n",
    "\n"
   ]
  },
  {
   "cell_type": "code",
   "execution_count": 14,
   "metadata": {},
   "outputs": [
    {
     "name": "stderr",
     "output_type": "stream",
     "text": [
      "  0%|          | 0/32 [00:00<?, ?it/s]"
     ]
    },
    {
     "name": "stdout",
     "output_type": "stream",
     "text": [
      "Using 3 nearest neighbors\n"
     ]
    },
    {
     "name": "stderr",
     "output_type": "stream",
     "text": [
      "  3%|▎         | 1/32 [00:14<07:30, 14.52s/it]"
     ]
    },
    {
     "name": "stdout",
     "output_type": "stream",
     "text": [
      "Using 3 nearest neighbors\n"
     ]
    },
    {
     "name": "stderr",
     "output_type": "stream",
     "text": [
      "  6%|▋         | 2/32 [00:23<05:40, 11.37s/it]"
     ]
    },
    {
     "name": "stdout",
     "output_type": "stream",
     "text": [
      "Using 3 nearest neighbors\n"
     ]
    },
    {
     "name": "stderr",
     "output_type": "stream",
     "text": [
      "  9%|▉         | 3/32 [00:32<05:01, 10.40s/it]"
     ]
    },
    {
     "name": "stdout",
     "output_type": "stream",
     "text": [
      "Using 3 nearest neighbors\n"
     ]
    },
    {
     "name": "stderr",
     "output_type": "stream",
     "text": [
      " 12%|█▎        | 4/32 [00:42<04:38,  9.95s/it]"
     ]
    },
    {
     "name": "stdout",
     "output_type": "stream",
     "text": [
      "Using 3 nearest neighbors\n"
     ]
    },
    {
     "name": "stderr",
     "output_type": "stream",
     "text": [
      " 16%|█▌        | 5/32 [00:51<04:22,  9.73s/it]"
     ]
    },
    {
     "name": "stdout",
     "output_type": "stream",
     "text": [
      "Using 3 nearest neighbors\n"
     ]
    },
    {
     "name": "stderr",
     "output_type": "stream",
     "text": [
      " 19%|█▉        | 6/32 [01:00<04:06,  9.48s/it]"
     ]
    },
    {
     "name": "stdout",
     "output_type": "stream",
     "text": [
      "Using 3 nearest neighbors\n"
     ]
    },
    {
     "name": "stderr",
     "output_type": "stream",
     "text": [
      " 22%|██▏       | 7/32 [01:09<03:53,  9.35s/it]"
     ]
    },
    {
     "name": "stdout",
     "output_type": "stream",
     "text": [
      "Using 3 nearest neighbors\n"
     ]
    },
    {
     "name": "stderr",
     "output_type": "stream",
     "text": [
      " 25%|██▌       | 8/32 [01:18<03:43,  9.31s/it]"
     ]
    },
    {
     "name": "stdout",
     "output_type": "stream",
     "text": [
      "Using 3 nearest neighbors\n"
     ]
    },
    {
     "name": "stderr",
     "output_type": "stream",
     "text": [
      " 28%|██▊       | 9/32 [01:28<03:33,  9.27s/it]"
     ]
    },
    {
     "name": "stdout",
     "output_type": "stream",
     "text": [
      "Using 3 nearest neighbors\n"
     ]
    },
    {
     "name": "stderr",
     "output_type": "stream",
     "text": [
      " 31%|███▏      | 10/32 [01:37<03:22,  9.20s/it]"
     ]
    },
    {
     "name": "stdout",
     "output_type": "stream",
     "text": [
      "Using 3 nearest neighbors\n"
     ]
    },
    {
     "name": "stderr",
     "output_type": "stream",
     "text": [
      " 34%|███▍      | 11/32 [01:46<03:12,  9.15s/it]"
     ]
    },
    {
     "name": "stdout",
     "output_type": "stream",
     "text": [
      "Using 3 nearest neighbors\n"
     ]
    },
    {
     "name": "stderr",
     "output_type": "stream",
     "text": [
      " 38%|███▊      | 12/32 [01:55<03:02,  9.13s/it]"
     ]
    },
    {
     "name": "stdout",
     "output_type": "stream",
     "text": [
      "Using 3 nearest neighbors\n"
     ]
    },
    {
     "name": "stderr",
     "output_type": "stream",
     "text": [
      " 41%|████      | 13/32 [02:04<02:52,  9.06s/it]"
     ]
    },
    {
     "name": "stdout",
     "output_type": "stream",
     "text": [
      "Using 3 nearest neighbors\n"
     ]
    },
    {
     "name": "stderr",
     "output_type": "stream",
     "text": [
      " 44%|████▍     | 14/32 [02:13<02:42,  9.06s/it]"
     ]
    },
    {
     "name": "stdout",
     "output_type": "stream",
     "text": [
      "Using 3 nearest neighbors\n"
     ]
    },
    {
     "name": "stderr",
     "output_type": "stream",
     "text": [
      " 47%|████▋     | 15/32 [02:22<02:33,  9.01s/it]"
     ]
    },
    {
     "name": "stdout",
     "output_type": "stream",
     "text": [
      "Using 3 nearest neighbors\n"
     ]
    },
    {
     "name": "stderr",
     "output_type": "stream",
     "text": [
      " 50%|█████     | 16/32 [02:30<02:23,  8.98s/it]"
     ]
    },
    {
     "name": "stdout",
     "output_type": "stream",
     "text": [
      "Using 3 nearest neighbors\n"
     ]
    },
    {
     "name": "stderr",
     "output_type": "stream",
     "text": [
      " 53%|█████▎    | 17/32 [02:39<02:15,  9.00s/it]"
     ]
    },
    {
     "name": "stdout",
     "output_type": "stream",
     "text": [
      "Using 3 nearest neighbors\n"
     ]
    },
    {
     "name": "stderr",
     "output_type": "stream",
     "text": [
      " 56%|█████▋    | 18/32 [02:49<02:06,  9.04s/it]"
     ]
    },
    {
     "name": "stdout",
     "output_type": "stream",
     "text": [
      "Using 3 nearest neighbors\n"
     ]
    },
    {
     "name": "stderr",
     "output_type": "stream",
     "text": [
      " 59%|█████▉    | 19/32 [02:58<01:57,  9.02s/it]"
     ]
    },
    {
     "name": "stdout",
     "output_type": "stream",
     "text": [
      "Using 3 nearest neighbors\n"
     ]
    },
    {
     "name": "stderr",
     "output_type": "stream",
     "text": [
      " 62%|██████▎   | 20/32 [03:07<01:47,  8.99s/it]"
     ]
    },
    {
     "name": "stdout",
     "output_type": "stream",
     "text": [
      "Using 3 nearest neighbors\n"
     ]
    },
    {
     "name": "stderr",
     "output_type": "stream",
     "text": [
      " 66%|██████▌   | 21/32 [03:16<01:39,  9.01s/it]"
     ]
    },
    {
     "name": "stdout",
     "output_type": "stream",
     "text": [
      "Using 3 nearest neighbors\n"
     ]
    },
    {
     "name": "stderr",
     "output_type": "stream",
     "text": [
      " 69%|██████▉   | 22/32 [03:25<01:30,  9.01s/it]"
     ]
    },
    {
     "name": "stdout",
     "output_type": "stream",
     "text": [
      "Using 3 nearest neighbors\n"
     ]
    },
    {
     "name": "stderr",
     "output_type": "stream",
     "text": [
      " 72%|███████▏  | 23/32 [03:34<01:21,  9.01s/it]"
     ]
    },
    {
     "name": "stdout",
     "output_type": "stream",
     "text": [
      "Using 3 nearest neighbors\n"
     ]
    },
    {
     "name": "stderr",
     "output_type": "stream",
     "text": [
      " 75%|███████▌  | 24/32 [03:43<01:11,  8.99s/it]"
     ]
    },
    {
     "name": "stdout",
     "output_type": "stream",
     "text": [
      "Using 3 nearest neighbors\n"
     ]
    },
    {
     "name": "stderr",
     "output_type": "stream",
     "text": [
      " 78%|███████▊  | 25/32 [03:52<01:03,  9.12s/it]"
     ]
    },
    {
     "name": "stdout",
     "output_type": "stream",
     "text": [
      "Using 3 nearest neighbors\n"
     ]
    },
    {
     "name": "stderr",
     "output_type": "stream",
     "text": [
      " 81%|████████▏ | 26/32 [04:01<00:54,  9.09s/it]"
     ]
    },
    {
     "name": "stdout",
     "output_type": "stream",
     "text": [
      "Using 3 nearest neighbors\n"
     ]
    },
    {
     "name": "stderr",
     "output_type": "stream",
     "text": [
      " 84%|████████▍ | 27/32 [04:10<00:45,  9.04s/it]"
     ]
    },
    {
     "name": "stdout",
     "output_type": "stream",
     "text": [
      "Using 3 nearest neighbors\n"
     ]
    },
    {
     "name": "stderr",
     "output_type": "stream",
     "text": [
      " 88%|████████▊ | 28/32 [04:19<00:36,  9.01s/it]"
     ]
    },
    {
     "name": "stdout",
     "output_type": "stream",
     "text": [
      "Using 3 nearest neighbors\n"
     ]
    },
    {
     "name": "stderr",
     "output_type": "stream",
     "text": [
      " 91%|█████████ | 29/32 [04:28<00:27,  9.01s/it]"
     ]
    },
    {
     "name": "stdout",
     "output_type": "stream",
     "text": [
      "Using 3 nearest neighbors\n"
     ]
    },
    {
     "name": "stderr",
     "output_type": "stream",
     "text": [
      " 94%|█████████▍| 30/32 [04:37<00:17,  8.96s/it]"
     ]
    },
    {
     "name": "stdout",
     "output_type": "stream",
     "text": [
      "Using 3 nearest neighbors\n"
     ]
    },
    {
     "name": "stderr",
     "output_type": "stream",
     "text": [
      " 97%|█████████▋| 31/32 [04:46<00:08,  8.97s/it]"
     ]
    },
    {
     "name": "stdout",
     "output_type": "stream",
     "text": [
      "Using 3 nearest neighbors\n"
     ]
    },
    {
     "name": "stderr",
     "output_type": "stream",
     "text": [
      "100%|██████████| 32/32 [04:55<00:00,  9.22s/it]\n"
     ]
    }
   ],
   "source": [
    "for epoch in tqdm(range(0, 3200, 100)):\n",
    "\tencoder = Encoder(in_features=32, features=features, out_features=2)\n",
    "\tdecoder = Decoder(in_features=2, features=list(reversed(features)), out_features=32)\n",
    "\tmodel = VAE(encoder, decoder)\n",
    "\t\n",
    "\tmodel.load_state_dict(torch.load(f'{models_path}/{size}/model_{epoch}.pth'))\n",
    "\tif size == \"overfit\":\n",
    "\t\tmodel.num_layers -= 1\n",
    "\t\tmodel.layers = model.layers[:-1]\n",
    "\tmodel.eval()\n",
    "\tsave_path = f\"figures/{model_name}/{mode}/{size}/{epoch}/\"\n",
    "\t\n",
    "\tq_25, med, q_75 = rank_over_training(dataset.X.detach().numpy()[:1000], model, N=50, wrt=\"output_wise\", sigma=0.05, precision=7)\n",
    "\tres_q_25.append(q_25)\n",
    "\tres_med.append(med)\n",
    "\tres_q_75.append(q_75)"
   ]
  },
  {
   "cell_type": "code",
   "execution_count": 6,
   "metadata": {},
   "outputs": [],
   "source": [
    "plot_rank_train(res_q_25, res_med, res_q_75, savepath=f\"figures/{model_name}/{mode}/{size}/\")"
   ]
  }
 ],
 "metadata": {
  "kernelspec": {
   "display_name": "DL",
   "language": "python",
   "name": "python3"
  },
  "language_info": {
   "codemirror_mode": {
    "name": "ipython",
    "version": 3
   },
   "file_extension": ".py",
   "mimetype": "text/x-python",
   "name": "python",
   "nbconvert_exporter": "python",
   "pygments_lexer": "ipython3",
   "version": "3.10.9"
  },
  "orig_nbformat": 4
 },
 "nbformat": 4,
 "nbformat_minor": 2
}
