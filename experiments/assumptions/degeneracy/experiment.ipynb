{
 "cells": [
  {
   "cell_type": "code",
   "execution_count": 6,
   "metadata": {},
   "outputs": [],
   "source": [
    "import sys\n",
    "import torch\n",
    "import numpy as np\n",
    "import pickle as pkl\n",
    "from tqdm import tqdm\n",
    "\n",
    "sys.path.append('../../../')\n",
    "\n",
    "from experiments.assumptions.degeneracy.script import eigenvalue_result, eigenvalue_results_large, plot_rank_train, rank_over_training\n",
    "from models.supervised.mlp.model import MLP\n",
    "from models.supervised.bimt.model import BioMLP\n",
    "\n"
   ]
  },
  {
   "cell_type": "code",
   "execution_count": 2,
   "metadata": {},
   "outputs": [
    {
     "data": {
      "text/plain": [
       "<torch._C.Generator at 0x7fd0803284b0>"
      ]
     },
     "execution_count": 2,
     "metadata": {},
     "output_type": "execute_result"
    }
   ],
   "source": [
    "np.random.seed(2)\n",
    "torch.manual_seed(2)"
   ]
  },
  {
   "cell_type": "code",
   "execution_count": 6,
   "metadata": {},
   "outputs": [
    {
     "name": "stdout",
     "output_type": "stream",
     "text": [
      "Size: vanilla, Epoch: 5\n",
      "Size: vanilla, Epoch: 60\n",
      "Size: vanilla, Epoch: 80\n",
      "Size: vanilla, Epoch: 199\n"
     ]
    }
   ],
   "source": [
    "mode = \"moon\"\n",
    "model_name = \"mlp\"\n",
    "size = \"2_wide\"\n",
    "models_path = f\"../../../models/supervised/{model_name}/saved_models\"\n",
    "if size == \"overfit\":\n",
    "\twith open(f'{models_path}/2_wide/{mode}/dataset.pkl', 'rb') as f:\n",
    "\t\tdataset = pkl.load(f)\n",
    "else:\n",
    "\twith open(f'{models_path}/{size}/{mode}/dataset.pkl', 'rb') as f:\n",
    "\t\tdataset = pkl.load(f)\n",
    "\n",
    "for size in [\"mixup_vanilla\", \"vanilla\",  \"overfit\", \"2_wide\"]:\n",
    "\tif size == \"overfit\":\n",
    "\t\tepochs = [60, 80, 199, 9999, 999, 5]\n",
    "\telse:\n",
    "\t\tepochs = [5, 60, 80, 199]\n",
    "\tfor epoch in epochs:\n",
    "\t\tif size == \"vanilla\" or size == \"mixup_vanilla\":\n",
    "\t\t\tmodel = MLP(2,7,10,2)\n",
    "\t\telif size == \"overfit\":\n",
    "\t\t\tmodel = MLP(2,7,2,1)\n",
    "\t\telif size == \"2_wide\":\n",
    "\t\t\tmodel = MLP(2,7,2,2)\n",
    "\t\tprint(f\"Size: {size}, Epoch: {epoch}\")\n",
    "\t\tmodel.eval()\n",
    "\t\tmodel.load_state_dict(torch.load(f'{models_path}/{size}/{mode}/model_{epoch}.pth'))\n",
    "\t\tif size == \"overfit\":\n",
    "\t\t\tmodel.num_layers -= 1\n",
    "\t\t\tmodel.layers = model.layers[:-1]\n",
    "\t\tsave_path = f\"figures/{model_name}/{mode}/{size}/{epoch}/\"\n",
    "\t\teigenvalue_result(dataset.X, model, N=50, labels=dataset.y, wrt=\"output_wise\", sigma=0.05, precision=7, save_path=save_path)\n",
    "\t\teigenvalue_result(dataset.X, model, N=50, labels=dataset.y, wrt=\"layer_wise\", sigma=0.05, precision=7, save_path=save_path)"
   ]
  },
  {
   "cell_type": "code",
   "execution_count": null,
   "metadata": {},
   "outputs": [],
   "source": [
    "mode = \"blobs\"\n",
    "model_name = \"mlp\"\n",
    "size = \"vanilla\"\n",
    "with open(f'{models_path}/{size}/{mode}/dataset.pkl', 'rb') as f:\n",
    "\tdataset = pkl.load(f)\n",
    "epochs = [5, 60, 80, 199]\n",
    "\n",
    "for size in [\"vanilla\"]:\n",
    "\tfor epoch in epochs:\n",
    "\t\tif size == \"vanilla\":\n",
    "\t\t\tmodel = MLP(2,7,4,4)\n",
    "\t\tprint(f\"Size: {size}, Epoch: {epoch}\")\n",
    "\t\tmodel.eval()\n",
    "\t\tmodel.load_state_dict(torch.load(f'{models_path}/{size}/{mode}/model_{epoch}.pth'))\n",
    "\t\tsave_path = f\"figures/{model_name}/{mode}/{size}/{epoch}/\"\n",
    "\t\teigenvalue_result(dataset.X, model, N=50, labels=dataset.y, wrt=\"output_wise\", sigma=0.05, precision=7, save_path=save_path)\n",
    "\t\teigenvalue_result(dataset.X, model, N=50, labels=dataset.y, wrt=\"layer_wise\", sigma=0.05, precision=7, save_path=save_path)"
   ]
  },
  {
   "cell_type": "code",
   "execution_count": 4,
   "metadata": {},
   "outputs": [
    {
     "name": "stderr",
     "output_type": "stream",
     "text": [
      "100%|██████████| 100/100 [02:32<00:00,  1.52s/it]\n"
     ]
    }
   ],
   "source": [
    "mode=\"moon\"\n",
    "model_name = \"bimt\"\n",
    "size = \"vanilla\"\n",
    "\n",
    "model = BioMLP(shp=[2,20,20,2])\n",
    "models_path = f\"../../../models/supervised/{model_name}/saved_models\"\n",
    "\n",
    "res_q_25, res_med, res_q_75 = [], [], []\n",
    "with open(f'{models_path}/{size}/{mode}/dataset.pkl', 'rb') as f:\n",
    "\tdataset = pkl.load(f)\n",
    "\n",
    "for epoch in tqdm(range(0, 10000, 100)):\n",
    "\tmodel.load_state_dict(torch.load(f'{models_path}/{size}/{mode}/model_{epoch}.pth'))\n",
    "\tmodel.eval()\n",
    "\tsave_path = f\"figures/{model_name}/{mode}/{size}/{epoch}/\"\n",
    "\t\n",
    "\tq_25, med, q_75 = eigenvalue_results_large(dataset.X, model, N=50, wrt=\"output_wise\", sigma=0.05, precision=7, save_path=save_path)\n",
    "\tres_q_25.append(q_25)\n",
    "\tres_med.append(med)\n",
    "\tres_q_75.append(q_75)\n",
    "\n",
    "\n",
    "\t"
   ]
  },
  {
   "cell_type": "code",
   "execution_count": null,
   "metadata": {},
   "outputs": [],
   "source": [
    "plot_rank_train(res_q_25, res_med, res_q_75, savepath=f\"figures/{model_name}/{mode}/{size}/\")\n"
   ]
  },
  {
   "cell_type": "code",
   "execution_count": 7,
   "metadata": {},
   "outputs": [
    {
     "name": "stderr",
     "output_type": "stream",
     "text": [
      "100%|██████████| 100/100 [00:35<00:00,  2.81it/s]\n"
     ]
    }
   ],
   "source": [
    "mode=\"moon\"\n",
    "model_name = \"mlp\"\n",
    "size = \"overfit\"\n",
    "\n",
    "\n",
    "models_path = f\"../../../models/supervised/{model_name}/saved_models\"\n",
    "\n",
    "res_q_25, res_med, res_q_75 = [], [], []\n",
    "with open(f'{models_path}/2_wide/{mode}/dataset.pkl', 'rb') as f:\n",
    "\tdataset = pkl.load(f)\n",
    "\n",
    "for epoch in tqdm(range(0, 10000, 100)):\n",
    "\tmodel = MLP(2,7,2,1)\n",
    "\n",
    "\tmodel.load_state_dict(torch.load(f'{models_path}/{size}/{mode}/model_{epoch}.pth'))\n",
    "\tif size == \"overfit\":\n",
    "\t\tmodel.num_layers -= 1\n",
    "\t\tmodel.layers = model.layers[:-1]\n",
    "\tmodel.eval()\n",
    "\tsave_path = f\"figures/{model_name}/{mode}/{size}/{epoch}/\"\n",
    "\t\n",
    "\tq_25, med, q_75 = rank_over_training(dataset.X, model, N=50, wrt=\"output_wise\", sigma=0.05, precision=7)\n",
    "\tres_q_25.append(q_25)\n",
    "\tres_med.append(med)\n",
    "\tres_q_75.append(q_75)"
   ]
  },
  {
   "cell_type": "code",
   "execution_count": 8,
   "metadata": {},
   "outputs": [],
   "source": [
    "plot_rank_train(res_q_25, res_med, res_q_75, savepath=f\"figures/{model_name}/{mode}/{size}/\")\n"
   ]
  },
  {
   "cell_type": "code",
   "execution_count": 8,
   "metadata": {},
   "outputs": [],
   "source": [
    "from models.data.mnist import MNISTDataset\n",
    "from models.supervised.cnn.model import CNN\n",
    "import torch.nn as nn\n",
    "import os\n",
    "from torch.utils.data import DataLoader\n",
    "from torch.utils.data import Subset\n",
    "\n",
    "dataset = MNISTDataset(train=True, root=\"../../../data\")\n",
    "batch_size = 128\n",
    "N_batches = batch_size//8\n",
    "subset_mnist = np.random.randint(0, len(dataset), batch_size**2//8)\n",
    "random_subset = Subset(dataset, subset_mnist)\n",
    "\n",
    "val_data = DataLoader(random_subset, batch_size=batch_size, shuffle=False)\n",
    "mode=\"moon\"\n",
    "model_name = \"cnn\"\n",
    "size = \"vanilla\"\n",
    "\n",
    "cnn_layers = [(1, 16, 3, 1), (16, 32, 3, 1)]\n",
    "fc_layers = [(32 * 24 * 24, 128, nn.ReLU()), (128, 64, nn.ReLU())]\n",
    "output_dim = 10\n",
    "\n",
    "model = CNN(cnn_layers, fc_layers, output_dim)\n",
    "models_path = f\"../../../models/supervised/{model_name}/saved_models\"\n",
    "\n",
    "res_q_25, res_med, res_q_75 = [], [], []\n",
    "\n",
    "\n",
    "tmp = os.listdir(f\"{models_path}/{size}\")\n",
    "\n",
    "epochs = []\n",
    "for i in tmp:\n",
    "    if i[-3:] == \"pth\":\n",
    "        epochs.append(int(i.split('_')[1].split('.')[0]))\n",
    "epochs = sorted(epochs)"
   ]
  },
  {
   "cell_type": "code",
   "execution_count": 12,
   "metadata": {},
   "outputs": [
    {
     "name": "stderr",
     "output_type": "stream",
     "text": [
      "  0%|          | 0/301 [00:00<?, ?it/s]"
     ]
    },
    {
     "name": "stdout",
     "output_type": "stream",
     "text": [
      "(128, 1, 28, 28)\n"
     ]
    },
    {
     "name": "stderr",
     "output_type": "stream",
     "text": [
      "  0%|          | 0/301 [00:00<?, ?it/s]"
     ]
    },
    {
     "name": "stdout",
     "output_type": "stream",
     "text": [
      "Using 11 nearest neighbors\n",
      "(2500, 28, 28)\n",
      "torch.Size([2500, 28, 28])\n"
     ]
    },
    {
     "name": "stderr",
     "output_type": "stream",
     "text": [
      "\n"
     ]
    },
    {
     "ename": "RuntimeError",
     "evalue": "Given groups=1, weight of size [16, 1, 3, 3], expected input[1, 2500, 28, 28] to have 1 channels, but got 2500 channels instead",
     "output_type": "error",
     "traceback": [
      "\u001b[0;31m---------------------------------------------------------------------------\u001b[0m",
      "\u001b[0;31mRuntimeError\u001b[0m                              Traceback (most recent call last)",
      "Cell \u001b[0;32mIn[12], line 7\u001b[0m\n\u001b[1;32m      5\u001b[0m q_25, med, q_75 \u001b[39m=\u001b[39m [], [], []\n\u001b[1;32m      6\u001b[0m \u001b[39mfor\u001b[39;00m X, y \u001b[39min\u001b[39;00m val_data:\n\u001b[0;32m----> 7\u001b[0m \tq_25_tmp, med_tmp, q_75_tmp \u001b[39m=\u001b[39m eigenvalue_results_large(X\u001b[39m.\u001b[39;49mdetach()\u001b[39m.\u001b[39;49mnumpy(), model, N\u001b[39m=\u001b[39;49m\u001b[39m50\u001b[39;49m, wrt\u001b[39m=\u001b[39;49m\u001b[39m\"\u001b[39;49m\u001b[39moutput_wise\u001b[39;49m\u001b[39m\"\u001b[39;49m, sigma\u001b[39m=\u001b[39;49m\u001b[39m0.05\u001b[39;49m, precision\u001b[39m=\u001b[39;49m\u001b[39m7\u001b[39;49m, save_path\u001b[39m=\u001b[39;49msave_path, sampling\u001b[39m=\u001b[39;49m\u001b[39m\"\u001b[39;49m\u001b[39mheat\u001b[39;49m\u001b[39m\"\u001b[39;49m)\n\u001b[1;32m      8\u001b[0m \tq_25 \u001b[39m+\u001b[39m\u001b[39m=\u001b[39m q_25_tmp\n\u001b[1;32m      9\u001b[0m \tmed \u001b[39m+\u001b[39m\u001b[39m=\u001b[39m med_tmp\n",
      "Cell \u001b[0;32mIn[7], line 202\u001b[0m, in \u001b[0;36meigenvalue_results_large\u001b[0;34m(input_, model, N, save_path, wrt, sigma, precision, sampling)\u001b[0m\n\u001b[1;32m    199\u001b[0m model\u001b[39m.\u001b[39mforward(X, save_activations\u001b[39m=\u001b[39m\u001b[39mTrue\u001b[39;00m)\n\u001b[1;32m    201\u001b[0m activations \u001b[39m=\u001b[39m model\u001b[39m.\u001b[39mget_activations()\n\u001b[0;32m--> 202\u001b[0m g, _ \u001b[39m=\u001b[39m pullback_metric(model, activations, N, wrt\u001b[39m=\u001b[39;49mwrt, method\u001b[39m=\u001b[39;49msampling, sigma\u001b[39m=\u001b[39;49msigma, normalised\u001b[39m=\u001b[39;49m\u001b[39mFalse\u001b[39;49;00m)\n\u001b[1;32m    203\u001b[0m eigenvalue_distribution(g, wrt\u001b[39m=\u001b[39mwrt, precision\u001b[39m=\u001b[39mprecision, save_path\u001b[39m=\u001b[39msave_path)\n\u001b[1;32m    204\u001b[0m q_25, med, q_75 \u001b[39m=\u001b[39m plot_rank(g, wrt\u001b[39m=\u001b[39mwrt, precision\u001b[39m=\u001b[39mprecision, save_path\u001b[39m=\u001b[39msave_path)\n",
      "Cell \u001b[0;32mIn[11], line 207\u001b[0m, in \u001b[0;36mpullback_metric\u001b[0;34m(model, activations, N, wrt, method, normalised, sigma)\u001b[0m\n\u001b[1;32m    205\u001b[0m surface_tensor \u001b[39m=\u001b[39m torch\u001b[39m.\u001b[39mfrom_numpy(xy_grid)\u001b[39m.\u001b[39mfloat()\n\u001b[1;32m    206\u001b[0m \u001b[39mprint\u001b[39m(surface_tensor\u001b[39m.\u001b[39mshape)\n\u001b[0;32m--> 207\u001b[0m \u001b[39mprint\u001b[39m(model\u001b[39m.\u001b[39;49mforward(surface_tensor))\n\u001b[1;32m    208\u001b[0m model\u001b[39m.\u001b[39mforward(surface_tensor, save_activations\u001b[39m=\u001b[39m\u001b[39mTrue\u001b[39;00m)\n\u001b[1;32m    209\u001b[0m surfaces \u001b[39m=\u001b[39m model\u001b[39m.\u001b[39mget_activations()\n",
      "File \u001b[0;32m~/Library/Mobile Documents/com~apple~CloudDocs/MSc Thesis/Dissertation.nosync/experiments/assumptions/degeneracy/../../../models/supervised/cnn/model.py:46\u001b[0m, in \u001b[0;36mCNN.forward\u001b[0;34m(self, x, save_activations)\u001b[0m\n\u001b[1;32m     44\u001b[0m \u001b[39mfor\u001b[39;00m layer \u001b[39min\u001b[39;00m \u001b[39mself\u001b[39m\u001b[39m.\u001b[39mcnn_layers:\n\u001b[1;32m     45\u001b[0m     \u001b[39mif\u001b[39;00m save_activations: \u001b[39mself\u001b[39m\u001b[39m.\u001b[39msave_forward(x)\n\u001b[0;32m---> 46\u001b[0m     x \u001b[39m=\u001b[39m layer(x)\n\u001b[1;32m     48\u001b[0m x \u001b[39m=\u001b[39m nn\u001b[39m.\u001b[39mFlatten()(x)\n\u001b[1;32m     50\u001b[0m \u001b[39mfor\u001b[39;00m layer \u001b[39min\u001b[39;00m \u001b[39mself\u001b[39m\u001b[39m.\u001b[39mfc_layers:\n",
      "File \u001b[0;32m~/miniconda3/envs/DL/lib/python3.10/site-packages/torch/nn/modules/module.py:1501\u001b[0m, in \u001b[0;36mModule._call_impl\u001b[0;34m(self, *args, **kwargs)\u001b[0m\n\u001b[1;32m   1496\u001b[0m \u001b[39m# If we don't have any hooks, we want to skip the rest of the logic in\u001b[39;00m\n\u001b[1;32m   1497\u001b[0m \u001b[39m# this function, and just call forward.\u001b[39;00m\n\u001b[1;32m   1498\u001b[0m \u001b[39mif\u001b[39;00m \u001b[39mnot\u001b[39;00m (\u001b[39mself\u001b[39m\u001b[39m.\u001b[39m_backward_hooks \u001b[39mor\u001b[39;00m \u001b[39mself\u001b[39m\u001b[39m.\u001b[39m_backward_pre_hooks \u001b[39mor\u001b[39;00m \u001b[39mself\u001b[39m\u001b[39m.\u001b[39m_forward_hooks \u001b[39mor\u001b[39;00m \u001b[39mself\u001b[39m\u001b[39m.\u001b[39m_forward_pre_hooks\n\u001b[1;32m   1499\u001b[0m         \u001b[39mor\u001b[39;00m _global_backward_pre_hooks \u001b[39mor\u001b[39;00m _global_backward_hooks\n\u001b[1;32m   1500\u001b[0m         \u001b[39mor\u001b[39;00m _global_forward_hooks \u001b[39mor\u001b[39;00m _global_forward_pre_hooks):\n\u001b[0;32m-> 1501\u001b[0m     \u001b[39mreturn\u001b[39;00m forward_call(\u001b[39m*\u001b[39;49margs, \u001b[39m*\u001b[39;49m\u001b[39m*\u001b[39;49mkwargs)\n\u001b[1;32m   1502\u001b[0m \u001b[39m# Do not call functions when jit is used\u001b[39;00m\n\u001b[1;32m   1503\u001b[0m full_backward_hooks, non_full_backward_hooks \u001b[39m=\u001b[39m [], []\n",
      "File \u001b[0;32m~/Library/Mobile Documents/com~apple~CloudDocs/MSc Thesis/Dissertation.nosync/experiments/assumptions/degeneracy/../../../models/supervised/cnn/model.py:12\u001b[0m, in \u001b[0;36mCNNLayer.forward\u001b[0;34m(self, x)\u001b[0m\n\u001b[1;32m     11\u001b[0m \u001b[39mdef\u001b[39;00m \u001b[39mforward\u001b[39m(\u001b[39mself\u001b[39m, x):\n\u001b[0;32m---> 12\u001b[0m     \u001b[39mreturn\u001b[39;00m \u001b[39mself\u001b[39m\u001b[39m.\u001b[39mact_func(\u001b[39mself\u001b[39;49m\u001b[39m.\u001b[39;49mconv(x))\n",
      "File \u001b[0;32m~/miniconda3/envs/DL/lib/python3.10/site-packages/torch/nn/modules/module.py:1501\u001b[0m, in \u001b[0;36mModule._call_impl\u001b[0;34m(self, *args, **kwargs)\u001b[0m\n\u001b[1;32m   1496\u001b[0m \u001b[39m# If we don't have any hooks, we want to skip the rest of the logic in\u001b[39;00m\n\u001b[1;32m   1497\u001b[0m \u001b[39m# this function, and just call forward.\u001b[39;00m\n\u001b[1;32m   1498\u001b[0m \u001b[39mif\u001b[39;00m \u001b[39mnot\u001b[39;00m (\u001b[39mself\u001b[39m\u001b[39m.\u001b[39m_backward_hooks \u001b[39mor\u001b[39;00m \u001b[39mself\u001b[39m\u001b[39m.\u001b[39m_backward_pre_hooks \u001b[39mor\u001b[39;00m \u001b[39mself\u001b[39m\u001b[39m.\u001b[39m_forward_hooks \u001b[39mor\u001b[39;00m \u001b[39mself\u001b[39m\u001b[39m.\u001b[39m_forward_pre_hooks\n\u001b[1;32m   1499\u001b[0m         \u001b[39mor\u001b[39;00m _global_backward_pre_hooks \u001b[39mor\u001b[39;00m _global_backward_hooks\n\u001b[1;32m   1500\u001b[0m         \u001b[39mor\u001b[39;00m _global_forward_hooks \u001b[39mor\u001b[39;00m _global_forward_pre_hooks):\n\u001b[0;32m-> 1501\u001b[0m     \u001b[39mreturn\u001b[39;00m forward_call(\u001b[39m*\u001b[39;49margs, \u001b[39m*\u001b[39;49m\u001b[39m*\u001b[39;49mkwargs)\n\u001b[1;32m   1502\u001b[0m \u001b[39m# Do not call functions when jit is used\u001b[39;00m\n\u001b[1;32m   1503\u001b[0m full_backward_hooks, non_full_backward_hooks \u001b[39m=\u001b[39m [], []\n",
      "File \u001b[0;32m~/miniconda3/envs/DL/lib/python3.10/site-packages/torch/nn/modules/conv.py:463\u001b[0m, in \u001b[0;36mConv2d.forward\u001b[0;34m(self, input)\u001b[0m\n\u001b[1;32m    462\u001b[0m \u001b[39mdef\u001b[39;00m \u001b[39mforward\u001b[39m(\u001b[39mself\u001b[39m, \u001b[39minput\u001b[39m: Tensor) \u001b[39m-\u001b[39m\u001b[39m>\u001b[39m Tensor:\n\u001b[0;32m--> 463\u001b[0m     \u001b[39mreturn\u001b[39;00m \u001b[39mself\u001b[39;49m\u001b[39m.\u001b[39;49m_conv_forward(\u001b[39minput\u001b[39;49m, \u001b[39mself\u001b[39;49m\u001b[39m.\u001b[39;49mweight, \u001b[39mself\u001b[39;49m\u001b[39m.\u001b[39;49mbias)\n",
      "File \u001b[0;32m~/miniconda3/envs/DL/lib/python3.10/site-packages/torch/nn/modules/conv.py:459\u001b[0m, in \u001b[0;36mConv2d._conv_forward\u001b[0;34m(self, input, weight, bias)\u001b[0m\n\u001b[1;32m    455\u001b[0m \u001b[39mif\u001b[39;00m \u001b[39mself\u001b[39m\u001b[39m.\u001b[39mpadding_mode \u001b[39m!=\u001b[39m \u001b[39m'\u001b[39m\u001b[39mzeros\u001b[39m\u001b[39m'\u001b[39m:\n\u001b[1;32m    456\u001b[0m     \u001b[39mreturn\u001b[39;00m F\u001b[39m.\u001b[39mconv2d(F\u001b[39m.\u001b[39mpad(\u001b[39minput\u001b[39m, \u001b[39mself\u001b[39m\u001b[39m.\u001b[39m_reversed_padding_repeated_twice, mode\u001b[39m=\u001b[39m\u001b[39mself\u001b[39m\u001b[39m.\u001b[39mpadding_mode),\n\u001b[1;32m    457\u001b[0m                     weight, bias, \u001b[39mself\u001b[39m\u001b[39m.\u001b[39mstride,\n\u001b[1;32m    458\u001b[0m                     _pair(\u001b[39m0\u001b[39m), \u001b[39mself\u001b[39m\u001b[39m.\u001b[39mdilation, \u001b[39mself\u001b[39m\u001b[39m.\u001b[39mgroups)\n\u001b[0;32m--> 459\u001b[0m \u001b[39mreturn\u001b[39;00m F\u001b[39m.\u001b[39;49mconv2d(\u001b[39minput\u001b[39;49m, weight, bias, \u001b[39mself\u001b[39;49m\u001b[39m.\u001b[39;49mstride,\n\u001b[1;32m    460\u001b[0m                 \u001b[39mself\u001b[39;49m\u001b[39m.\u001b[39;49mpadding, \u001b[39mself\u001b[39;49m\u001b[39m.\u001b[39;49mdilation, \u001b[39mself\u001b[39;49m\u001b[39m.\u001b[39;49mgroups)\n",
      "\u001b[0;31mRuntimeError\u001b[0m: Given groups=1, weight of size [16, 1, 3, 3], expected input[1, 2500, 28, 28] to have 1 channels, but got 2500 channels instead"
     ]
    }
   ],
   "source": [
    "for epoch in tqdm(epochs):\n",
    "\tmodel.load_state_dict(torch.load(f'{models_path}/{size}/model_{epoch}.pth'))\n",
    "\tmodel.eval()\n",
    "\tsave_path = f\"figures/{model_name}/{size}/{epoch}/\"\n",
    "\tq_25, med, q_75 = [], [], []\n",
    "\tfor X, y in val_data:\n",
    "\t\tq_25_tmp, med_tmp, q_75_tmp = eigenvalue_results_large(X.detach().numpy(), model, N=50, wrt=\"output_wise\", sigma=0.05, precision=7, save_path=save_path, sampling=\"heat\")\n",
    "\t\tq_25 += q_25_tmp\n",
    "\t\tmed += med_tmp\n",
    "\t\tq_75 += q_75_tmp\n",
    "\n",
    "\tres_q_25.append(q_25)\n",
    "\tres_med.append(med)\n",
    "\tres_q_75.append(q_75)\n"
   ]
  },
  {
   "cell_type": "code",
   "execution_count": 3,
   "metadata": {},
   "outputs": [],
   "source": []
  },
  {
   "cell_type": "code",
   "execution_count": 4,
   "metadata": {},
   "outputs": [
    {
     "name": "stdout",
     "output_type": "stream",
     "text": [
      "Using 11 nearest neighbors\n"
     ]
    },
    {
     "name": "stderr",
     "output_type": "stream",
     "text": [
      "/Users/maxpowers/miniconda3/envs/DL/lib/python3.10/site-packages/scipy/sparse/linalg/_eigen/arpack/arpack.py:1592: RuntimeWarning: k >= N for N * N square matrix. Attempting to use scipy.linalg.eigh instead.\n",
      "  warnings.warn(\"k >= N for N * N square matrix. \"\n"
     ]
    },
    {
     "data": {
      "text/plain": [
       "(100, 28, 28)"
      ]
     },
     "execution_count": 4,
     "metadata": {},
     "output_type": "execute_result"
    }
   ],
   "source": [
    "points = np.random.randn(128, 1, 28, 28)\n",
    "points = sample_points_heat_kernel(points, num_samples=100, t=0.1, connect_components=1)\n",
    "points.shape"
   ]
  },
  {
   "cell_type": "code",
   "execution_count": null,
   "metadata": {},
   "outputs": [],
   "source": []
  }
 ],
 "metadata": {
  "kernelspec": {
   "display_name": "DL",
   "language": "python",
   "name": "python3"
  },
  "language_info": {
   "codemirror_mode": {
    "name": "ipython",
    "version": 3
   },
   "file_extension": ".py",
   "mimetype": "text/x-python",
   "name": "python",
   "nbconvert_exporter": "python",
   "pygments_lexer": "ipython3",
   "version": "3.10.9"
  },
  "orig_nbformat": 4
 },
 "nbformat": 4,
 "nbformat_minor": 2
}
