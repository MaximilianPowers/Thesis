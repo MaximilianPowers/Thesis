{
 "cells": [
  {
   "cell_type": "code",
   "execution_count": 1,
   "metadata": {},
   "outputs": [],
   "source": [
    "import sys\n",
    "import torch\n",
    "import numpy as np\n",
    "import pickle as pkl\n",
    "\n",
    "sys.path.append('../../../')\n",
    "\n",
    "from experiments.assumptions.degeneracy.script import eigenvalue_result\n",
    "from models.supervised.mlp.model import MLP\n",
    "\n",
    "models_path = \"../../../models/supervised/mlp/saved_models\"\n"
   ]
  },
  {
   "cell_type": "code",
   "execution_count": 5,
   "metadata": {},
   "outputs": [
    {
     "data": {
      "text/plain": [
       "<torch._C.Generator at 0x7fcee0330490>"
      ]
     },
     "execution_count": 5,
     "metadata": {},
     "output_type": "execute_result"
    }
   ],
   "source": [
    "np.random.seed(2)\n",
    "torch.manual_seed(2)"
   ]
  },
  {
   "cell_type": "code",
   "execution_count": 9,
   "metadata": {},
   "outputs": [
    {
     "name": "stdout",
     "output_type": "stream",
     "text": [
      "Size: overfit, Epoch: 60\n",
      "Size: overfit, Epoch: 80\n",
      "Size: overfit, Epoch: 199\n",
      "Size: overfit, Epoch: 9999\n",
      "Size: overfit, Epoch: 999\n",
      "Size: overfit, Epoch: 5\n",
      "Size: 2_wide, Epoch: 5\n",
      "Size: 2_wide, Epoch: 60\n",
      "Size: 2_wide, Epoch: 80\n",
      "Size: 2_wide, Epoch: 199\n",
      "Size: vanilla, Epoch: 5\n"
     ]
    },
    {
     "name": "stderr",
     "output_type": "stream",
     "text": [
      "/Users/maxpowers/miniconda3/envs/DL/lib/python3.10/site-packages/matplotlib/cbook/__init__.py:1335: ComplexWarning: Casting complex values to real discards the imaginary part\n",
      "  return np.asarray(x, float)\n"
     ]
    },
    {
     "name": "stdout",
     "output_type": "stream",
     "text": [
      "Size: vanilla, Epoch: 60\n",
      "Size: vanilla, Epoch: 80\n",
      "Size: vanilla, Epoch: 199\n"
     ]
    }
   ],
   "source": [
    "mode = \"moon\"\n",
    "with open(f'{models_path}/2_wide/mlp_{mode}/dataset.pkl', 'rb') as f:\n",
    "\tdataset = pkl.load(f)\n",
    "for size in [\"overfit\", \"2_wide\", \"vanilla\"]:\n",
    "\tif size == \"overfit\":\n",
    "\t\tepochs = [60, 80, 199, 9999, 999, 5]\n",
    "\telse:\n",
    "\t\tepochs = [5, 60, 80, 199]\n",
    "\tfor epoch in epochs:\n",
    "\t\tif size == \"vanilla\":\n",
    "\t\t\tmodel = MLP(2,7,10,2)\n",
    "\t\telif size == \"overfit\":\n",
    "\t\t\tmodel = MLP(2,7,2,1)\n",
    "\t\telif size == \"2_wide\":\n",
    "\t\t\tmodel = MLP(2,7,2,2)\n",
    "\t\tprint(f\"Size: {size}, Epoch: {epoch}\")\n",
    "\t\tmodel.eval()\n",
    "\t\tmodel.load_state_dict(torch.load(f'{models_path}/{size}/mlp_{mode}/model_{epoch}.pth'))\n",
    "\t\tif size == \"overfit\":\n",
    "\t\t\tmodel.num_layers -= 1\n",
    "\t\t\tmodel.layers = model.layers[:-1]\n",
    "\t\teigenvalue_result(dataset.X, model, N=50, labels=dataset.y, wrt=\"output_wise\", sigma=0.05, precision=7, mode=mode, size=size, epoch=epoch)\n",
    "\t\teigenvalue_result(dataset.X, model, N=50, labels=dataset.y, wrt=\"layer_wise\", sigma=0.05, precision=7, mode=mode, size=size, epoch=epoch)"
   ]
  },
  {
   "cell_type": "code",
   "execution_count": 4,
   "metadata": {},
   "outputs": [
    {
     "ename": "FileNotFoundError",
     "evalue": "[Errno 2] No such file or directory: '../../../models/supervised/mlp/saved_models/vanill/mlp_blobs/dataset.pkl'",
     "output_type": "error",
     "traceback": [
      "\u001b[0;31m---------------------------------------------------------------------------\u001b[0m",
      "\u001b[0;31mFileNotFoundError\u001b[0m                         Traceback (most recent call last)",
      "Cell \u001b[0;32mIn[4], line 2\u001b[0m\n\u001b[1;32m      1\u001b[0m mode \u001b[39m=\u001b[39m \u001b[39m\"\u001b[39m\u001b[39mblobs\u001b[39m\u001b[39m\"\u001b[39m\n\u001b[0;32m----> 2\u001b[0m \u001b[39mwith\u001b[39;00m \u001b[39mopen\u001b[39;49m(\u001b[39mf\u001b[39;49m\u001b[39m'\u001b[39;49m\u001b[39m{\u001b[39;49;00mmodels_path\u001b[39m}\u001b[39;49;00m\u001b[39m/vanill/mlp_\u001b[39;49m\u001b[39m{\u001b[39;49;00mmode\u001b[39m}\u001b[39;49;00m\u001b[39m/dataset.pkl\u001b[39;49m\u001b[39m'\u001b[39;49m, \u001b[39m'\u001b[39;49m\u001b[39mrb\u001b[39;49m\u001b[39m'\u001b[39;49m) \u001b[39mas\u001b[39;00m f:\n\u001b[1;32m      3\u001b[0m \tdataset \u001b[39m=\u001b[39m pkl\u001b[39m.\u001b[39mload(f)\n\u001b[1;32m      4\u001b[0m epochs \u001b[39m=\u001b[39m [\u001b[39m5\u001b[39m, \u001b[39m60\u001b[39m, \u001b[39m80\u001b[39m, \u001b[39m199\u001b[39m]\n",
      "File \u001b[0;32m~/miniconda3/envs/DL/lib/python3.10/site-packages/IPython/core/interactiveshell.py:282\u001b[0m, in \u001b[0;36m_modified_open\u001b[0;34m(file, *args, **kwargs)\u001b[0m\n\u001b[1;32m    275\u001b[0m \u001b[39mif\u001b[39;00m file \u001b[39min\u001b[39;00m {\u001b[39m0\u001b[39m, \u001b[39m1\u001b[39m, \u001b[39m2\u001b[39m}:\n\u001b[1;32m    276\u001b[0m     \u001b[39mraise\u001b[39;00m \u001b[39mValueError\u001b[39;00m(\n\u001b[1;32m    277\u001b[0m         \u001b[39mf\u001b[39m\u001b[39m\"\u001b[39m\u001b[39mIPython won\u001b[39m\u001b[39m'\u001b[39m\u001b[39mt let you open fd=\u001b[39m\u001b[39m{\u001b[39;00mfile\u001b[39m}\u001b[39;00m\u001b[39m by default \u001b[39m\u001b[39m\"\u001b[39m\n\u001b[1;32m    278\u001b[0m         \u001b[39m\"\u001b[39m\u001b[39mas it is likely to crash IPython. If you know what you are doing, \u001b[39m\u001b[39m\"\u001b[39m\n\u001b[1;32m    279\u001b[0m         \u001b[39m\"\u001b[39m\u001b[39myou can use builtins\u001b[39m\u001b[39m'\u001b[39m\u001b[39m open.\u001b[39m\u001b[39m\"\u001b[39m\n\u001b[1;32m    280\u001b[0m     )\n\u001b[0;32m--> 282\u001b[0m \u001b[39mreturn\u001b[39;00m io_open(file, \u001b[39m*\u001b[39;49margs, \u001b[39m*\u001b[39;49m\u001b[39m*\u001b[39;49mkwargs)\n",
      "\u001b[0;31mFileNotFoundError\u001b[0m: [Errno 2] No such file or directory: '../../../models/supervised/mlp/saved_models/vanill/mlp_blobs/dataset.pkl'"
     ]
    }
   ],
   "source": [
    "mode = \"blobs\"\n",
    "with open(f'{models_path}/vanill/mlp_{mode}/dataset.pkl', 'rb') as f:\n",
    "\tdataset = pkl.load(f)\n",
    "epochs = [5, 60, 80, 199]\n",
    "\n",
    "for size in [\"vanilla\"]:\n",
    "\tfor epoch in epochs:\n",
    "\t\tif size == \"vanilla\":\n",
    "\t\t\tmodel = MLP(2,7,4,4)\n",
    "\t\tprint(f\"Size: {size}, Epoch: {epoch}\")\n",
    "\t\tmodel.eval()\n",
    "\t\tmodel.load_state_dict(torch.load(f'{models_path}/{size}/mlp_{mode}/model_{epoch}.pth'))\n",
    "\t\teigenvalue_result(dataset.X, model, N=50, labels=dataset.y, wrt=\"output_wise\", sigma=0.05, precision=7, mode=mode, size=size, epoch=epoch)\n",
    "\t\teigenvalue_result(dataset.X, model, N=50, labels=dataset.y, wrt=\"layer_wise\", sigma=0.05, precision=7, mode=mode, size=size, epoch=epoch)"
   ]
  },
  {
   "cell_type": "code",
   "execution_count": null,
   "metadata": {},
   "outputs": [],
   "source": [
    "\n",
    "def matrix_signature(A):\n",
    "    # Compute eigenvalues\n",
    "    eigenvalues = np.linalg.eigvals(A)\n",
    "    \n",
    "    n_pos = np.sum(eigenvalues > 1e-10, axis=1)  # Number of positive eigenvalues\n",
    "    n_neg = np.sum(eigenvalues < -1e-10, axis=1) # Number of negative eigenvalues\n",
    "    n_zero = np.sum(np.abs(eigenvalues) <= 1e-10, axis=1) # Number of zero eigenvalues\n",
    "    \n",
    "    return (n_pos, n_neg, n_zero)\n",
    "\n",
    "signature = matrix_signature(g_)"
   ]
  },
  {
   "cell_type": "code",
   "execution_count": null,
   "metadata": {},
   "outputs": [],
   "source": []
  }
 ],
 "metadata": {
  "kernelspec": {
   "display_name": "DL",
   "language": "python",
   "name": "python3"
  },
  "language_info": {
   "codemirror_mode": {
    "name": "ipython",
    "version": 3
   },
   "file_extension": ".py",
   "mimetype": "text/x-python",
   "name": "python",
   "nbconvert_exporter": "python",
   "pygments_lexer": "ipython3",
   "version": "3.10.9"
  },
  "orig_nbformat": 4
 },
 "nbformat": 4,
 "nbformat_minor": 2
}
