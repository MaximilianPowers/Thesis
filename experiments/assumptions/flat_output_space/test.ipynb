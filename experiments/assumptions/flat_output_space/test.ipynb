{
 "cells": [
  {
   "cell_type": "code",
   "execution_count": 2,
   "metadata": {},
   "outputs": [],
   "source": [
    "import matplotlib.pyplot as plt\n",
    "from matplotlib.patches import Ellipse\n",
    "import sys\n",
    "\n",
    "sys.path.append(\"../../../\")\n",
    "import numpy as np\n",
    "from riemannian_geometry.computations.riemann_metric import LocalDiagPCA_Riemann\n",
    "from riemannian_geometry.differential_geometry.curvature import batch_curvature\n",
    "import torch\n",
    "from utils.plotting.mesh import generate_lattice\n",
    "from models.data.sklearn_datasets import MoonDataset, SpiralDataset, BlobsDataset, CirclesDataset\n"
   ]
  },
  {
   "cell_type": "code",
   "execution_count": 3,
   "metadata": {},
   "outputs": [],
   "source": [
    "dataset = MoonDataset(1000, noise=0.05)\n",
    "\n",
    "manifold = LocalDiagPCA_Riemann(dataset.X, sigma=0.05, rho=1e-3)"
   ]
  },
  {
   "cell_type": "code",
   "execution_count": 65,
   "metadata": {},
   "outputs": [],
   "source": [
    "xy_grid = generate_lattice(dataset.X, 50)\n",
    "g, dg, ddg = manifold.metric_tensor(xy_grid.transpose())"
   ]
  },
  {
   "cell_type": "code",
   "execution_count": null,
   "metadata": {},
   "outputs": [],
   "source": [
    "N, D = xy_grid.shape\n",
    "\n",
    "g_ = np.diag(g)\n",
    "\n",
    "dg_ = np.zeros((N, D, D, D))\n",
    "dg_[:, :, np.arange(D), np.arange(D)] = dg.transpose(0,2,1)\n",
    "\n",
    "ddg_ = np.zeros((N, D, D, D, D))\n",
    "ddg_[:, :, :, np.arange(D), np.arange(D)] = ddg.transpose(0,1,3,2) "
   ]
  },
  {
   "cell_type": "code",
   "execution_count": 4,
   "metadata": {},
   "outputs": [
    {
     "name": "stdout",
     "output_type": "stream",
     "text": [
      "[[[-0.99830025 -0.05828169]\n",
      "  [-0.05828169  0.99830025]]\n",
      "\n",
      " [[-0.73202866  0.68127376]\n",
      "  [-0.68127376 -0.73202866]]\n",
      "\n",
      " [[-0.85523444 -0.51824135]\n",
      "  [-0.51824135  0.85523444]]\n",
      "\n",
      " [[ 0.1634318  -0.9865546 ]\n",
      "  [-0.9865546  -0.1634318 ]]\n",
      "\n",
      " [[-0.8904928  -0.45499736]\n",
      "  [-0.45499736  0.8904928 ]]]\n",
      "[[[-4.9915013e-01 -5.8281683e+02]\n",
      "  [-2.9140843e-02  9.9830029e+03]]\n",
      "\n",
      " [[-3.6601433e-01  6.8127378e+03]\n",
      "  [-3.4063688e-01 -7.3202866e+03]]\n",
      "\n",
      " [[-4.2761722e-01 -5.1824136e+03]\n",
      "  [-2.5912067e-01  8.5523447e+03]]\n",
      "\n",
      " [[ 8.1715897e-02 -9.8655459e+03]\n",
      "  [-4.9327731e-01 -1.6343180e+03]]\n",
      "\n",
      " [[-4.4524640e-01 -4.5499736e+03]\n",
      "  [-2.2749868e-01  8.9049277e+03]]]\n"
     ]
    }
   ],
   "source": [
    "import numpy as np\n",
    "import torch\n",
    "\n",
    "a = np.random.randn(5, 2, 2)\n",
    "\n",
    "b = torch.from_numpy(a).float()\n",
    "\n",
    "vals, vectors = torch.linalg.eigh(b)\n",
    "vals = vals.numpy()\n",
    "vectors = vectors.numpy()\n",
    "print(vectors)\n",
    "\n",
    "vectors *= np.array([0.5, 10000])\n",
    "print(vectors)\n"
   ]
  },
  {
   "cell_type": "code",
   "execution_count": null,
   "metadata": {},
   "outputs": [],
   "source": []
  }
 ],
 "metadata": {
  "kernelspec": {
   "display_name": "DL",
   "language": "python",
   "name": "python3"
  },
  "language_info": {
   "codemirror_mode": {
    "name": "ipython",
    "version": 3
   },
   "file_extension": ".py",
   "mimetype": "text/x-python",
   "name": "python",
   "nbconvert_exporter": "python",
   "pygments_lexer": "ipython3",
   "version": "3.10.9"
  },
  "orig_nbformat": 4
 },
 "nbformat": 4,
 "nbformat_minor": 2
}
