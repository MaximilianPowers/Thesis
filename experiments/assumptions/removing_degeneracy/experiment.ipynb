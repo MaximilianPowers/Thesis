{
 "cells": [
  {
   "cell_type": "code",
   "execution_count": 1,
   "metadata": {},
   "outputs": [],
   "source": [
    "import sys\n",
    "import torch\n",
    "import numpy as np\n",
    "import pickle as pkl\n",
    "\n",
    "sys.path.append('../../../')\n",
    "\n",
    "from models.supervised.mlp.model import MLP\n",
    "from models.supervised.bimt.model import BioMLP\n",
    "\n",
    "from experiments.assumptions.removing_degeneracy.script import main\n"
   ]
  },
  {
   "cell_type": "code",
   "execution_count": 2,
   "metadata": {},
   "outputs": [
    {
     "data": {
      "text/plain": [
       "<torch._C.Generator at 0x7fc2eb330470>"
      ]
     },
     "execution_count": 2,
     "metadata": {},
     "output_type": "execute_result"
    }
   ],
   "source": [
    "np.random.seed(2)\n",
    "torch.manual_seed(2)"
   ]
  },
  {
   "cell_type": "code",
   "execution_count": 3,
   "metadata": {},
   "outputs": [],
   "source": [
    "mode = \"blobs\"\n",
    "model_name = \"mlp\"\n",
    "size = \"vanilla\"\n",
    "models_path = f\"../../../models/supervised/{model_name}/saved_models\"\n",
    "if size == \"overfit\":\n",
    "\twith open(f'{models_path}/2_wide/{mode}/dataset.pkl', 'rb') as f:\n",
    "\t\tdataset = pkl.load(f)\n",
    "else:\n",
    "\twith open(f'{models_path}/{size}/{mode}/dataset.pkl', 'rb') as f:\n",
    "\t\tdataset = pkl.load(f)\n"
   ]
  },
  {
   "cell_type": "code",
   "execution_count": 4,
   "metadata": {},
   "outputs": [
    {
     "data": {
      "text/plain": [
       "<All keys matched successfully>"
      ]
     },
     "execution_count": 4,
     "metadata": {},
     "output_type": "execute_result"
    }
   ],
   "source": [
    "model = MLP(2,7,4,4)\n",
    "epoch = 199\n",
    "model.eval()\n",
    "model.load_state_dict(torch.load(f'{models_path}/{size}/{mode}/model_{epoch}.pth'))"
   ]
  },
  {
   "cell_type": "code",
   "execution_count": 5,
   "metadata": {},
   "outputs": [
    {
     "name": "stdout",
     "output_type": "stream",
     "text": [
      "Jacobian computed in 0.2068500518798828 seconds\n",
      "Jacobian converted to numpy in 0.00038909912109375 seconds\n",
      "Pullback metric computed in 0.0012519359588623047 seconds\n",
      "Pullback Christoffel computed in 0.007143974304199219 seconds\n",
      "Pullback Ricci computed in 0.0015778541564941406 seconds\n",
      "K=2 -> 609\n",
      "Nodes remaining: {25, 1437}\n",
      "K=3 -> 26\n",
      "Nodes remaining: {1124, 68, 1479}\n",
      "K=4 -> 1\n"
     ]
    }
   ],
   "source": [
    "wrt = \"output_wise\"\n",
    "sigma = 0.1\n",
    "N = 50\n",
    "subgraphs = main(model, dataset, quantile=0.85, tol=1e-5, max_K=int(np.sqrt(len(dataset.X))), save_path=f\"figures/{mode}/{model_name}/{size}/{epoch}/\", wrt=wrt, N=N, sigma=sigma, MIN_SIZE=None, plot_V=True)\n"
   ]
  },
  {
   "cell_type": "code",
   "execution_count": null,
   "metadata": {},
   "outputs": [],
   "source": []
  }
 ],
 "metadata": {
  "kernelspec": {
   "display_name": "DL",
   "language": "python",
   "name": "python3"
  },
  "language_info": {
   "codemirror_mode": {
    "name": "ipython",
    "version": 3
   },
   "file_extension": ".py",
   "mimetype": "text/x-python",
   "name": "python",
   "nbconvert_exporter": "python",
   "pygments_lexer": "ipython3",
   "version": "3.10.9"
  },
  "orig_nbformat": 4
 },
 "nbformat": 4,
 "nbformat_minor": 2
}
