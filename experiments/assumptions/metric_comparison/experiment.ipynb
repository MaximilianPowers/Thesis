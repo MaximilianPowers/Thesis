{
 "cells": [
  {
   "cell_type": "code",
   "execution_count": 1,
   "metadata": {},
   "outputs": [],
   "source": [
    "import sys\n",
    "import os\n",
    "sys.path.append(\"../../../\")\n",
    "\n",
    "import torch\n",
    "import numpy as np\n",
    "\n",
    "from experiments.assumptions.metric_comparison import script\n",
    "from models.supervised.mlp.model import MLP\n",
    "from models.data.sklearn_datasets import MoonDataset, BlobsDataset, SpiralDataset, CirclesDataset\n",
    "from utils.metrics.metrics import compute_cosine_score, compute_magnitude_score\n",
    "\n",
    "\n",
    "models_path = \"../../../models/supervised/mlp/saved_models\"\n",
    "\n",
    "# We want to measure the error from using the pullback metric instead of computing the Riemannian\n",
    "# metric for each layer.\n",
    "\n",
    "# We will use the Moon dataset for this experiment and the cosine function to measure the \n",
    "# between the two given metrics are scale-invariant."
   ]
  },
  {
   "cell_type": "code",
   "execution_count": 2,
   "metadata": {},
   "outputs": [
    {
     "data": {
      "text/plain": [
       "<torch._C.Generator at 0x7fb81ca9c490>"
      ]
     },
     "execution_count": 2,
     "metadata": {},
     "output_type": "execute_result"
    }
   ],
   "source": [
    "np.random.seed(2)\n",
    "torch.manual_seed(2)"
   ]
  },
  {
   "cell_type": "code",
   "execution_count": 3,
   "metadata": {},
   "outputs": [],
   "source": [
    "dataset_name = 'moon'\n",
    "size = \"skinny\"\n",
    "if dataset_name == 'moon':\n",
    "    dataset = MoonDataset(n_samples=1000, noise=0.01)\n",
    "elif dataset_name == 'blobs':\n",
    "    dataset = BlobsDataset(n_samples=1000, noise=0.01)\n",
    "elif dataset_name == 'spiral':\n",
    "    dataset = SpiralDataset(n_samples=1000, noise=0.01)\n",
    "elif dataset_name == 'circles':\n",
    "    dataset = CirclesDataset(n_samples=1000, noise=0.01)\n",
    "\n",
    "epoch = 199\n",
    "\n",
    "\n",
    "if size == \"skinny\":\n",
    "    model = MLP(2,7,2,2)\n",
    "    model.load_state_dict(torch.load(f'{models_path}/2_wide/mlp_{dataset_name}/model_{epoch}.pth'))\n",
    "elif size == \"overfit\":\n",
    "    model = MLP(2,7,2,1)\n",
    "    model.load_state_dict(torch.load(f'{models_path}/overfit/mlp_{dataset_name}/model_{epoch}.pth'))\n",
    "    final_layer = model.layers[-1]\n",
    "    model.layers = model.layers[:-1]\n",
    "elif size == \"vanilla\":\n",
    "    model = MLP(2,7,10,2)\n",
    "    model.load_state_dict(torch.load(f'{models_path}/vanilla/mlp_{dataset_name}/model_{epoch}.pth'))\n",
    "\n",
    "os.makedirs(f'figures/{epoch}', exist_ok=True)\n",
    "os.makedirs(f'figures/{epoch}/{dataset_name}', exist_ok=True)\n",
    "os.makedirs(f'figures/{epoch}/{dataset_name}/{size}', exist_ok=True)"
   ]
  },
  {
   "cell_type": "code",
   "execution_count": 4,
   "metadata": {},
   "outputs": [],
   "source": [
    "local_g_diag_lattice = script.local_plot(model, dataset.X, dataset.y, epoch=epoch, save_path = f\"{dataset_name}/{size}\", N=50, plot_method='lattice_diagonal')\n",
    "local_g_lattice = script.local_plot(model, dataset.X, dataset.y, epoch=epoch, save_path = f\"{dataset_name}/{size}\", N=15, plot_method='lattice')\n",
    "local_g_surface = script.local_plot(model, dataset.X, dataset.y, epoch=epoch, save_path = f\"{dataset_name}/{size}\", N=50, plot_method='surface')"
   ]
  },
  {
   "cell_type": "code",
   "execution_count": 4,
   "metadata": {},
   "outputs": [
    {
     "name": "stderr",
     "output_type": "stream",
     "text": [
      "/Users/maxpowers/miniconda3/envs/DL/lib/python3.10/site-packages/numpy/linalg/linalg.py:2556: RuntimeWarning: overflow encountered in multiply\n",
      "  s = (x.conj() * x).real\n"
     ]
    }
   ],
   "source": [
    "pullback_g_diag_lattice, grid_diag_lattice = script.pullback_plot(model, dataset.X, dataset.y, epoch=epoch, save_path = f\"{dataset_name}/{size}\", N=50, plot_method='lattice_diagonal')\n",
    "pullback_g_lattice, grid_lattice = script.pullback_plot(model, dataset.X, dataset.y, epoch=epoch, save_path = f\"{dataset_name}/{size}\", N=15, plot_method='lattice')\n",
    "pullback_g_surface, grid_surface = script.pullback_plot(model, dataset.X, dataset.y, epoch=epoch, save_path = f\"{dataset_name}/{size}\", N=50, plot_method='surface')\n"
   ]
  },
  {
   "cell_type": "code",
   "execution_count": 4,
   "metadata": {},
   "outputs": [],
   "source": [
    "full_pullback_g_diag_lattice, full_grid_diag_lattice = script.full_pullback_plot(model, dataset.X, dataset.y, epoch=epoch, save_path = f\"{dataset_name}/{size}\", N=50, plot_method='lattice_diagonal')\n",
    "full_pullback_g_lattice, full_grid_lattice = script.full_pullback_plot(model, dataset.X, dataset.y, epoch=epoch, save_path = f\"{dataset_name}/{size}\", N=15, plot_method='lattice')\n",
    "full_pullback_g_surface, full_grid_surface = script.full_pullback_plot(model, dataset.X, dataset.y, epoch=epoch, save_path = f\"{dataset_name}/{size}\", N=50, plot_method='surface')"
   ]
  },
  {
   "cell_type": "code",
   "execution_count": 17,
   "metadata": {},
   "outputs": [],
   "source": [
    "cosine_score = compute_cosine_score(pullback_g_lattice, full_pullback_g_lattice)\n",
    "magnitude_score = compute_magnitude_score(pullback_g_lattice, full_pullback_g_lattice)\n",
    "script.plot_err_heatmap(cosine_score, magnitude_score, full_grid_lattice, model, dataset.X, dataset.y, N=15, save_name=f\"{dataset_name}/{size}\", epoch=epoch)\n",
    "script.violin_plot(cosine_score, magnitude_score, save_name=f\"{dataset_name}/{size}\", epoch=epoch)"
   ]
  },
  {
   "cell_type": "code",
   "execution_count": 3,
   "metadata": {},
   "outputs": [],
   "source": [
    "def _iter_plot(dataset_name, size, epoch):\n",
    "    if dataset_name == 'moon':\n",
    "        dataset = MoonDataset(n_samples=1000, noise=0.01)\n",
    "    elif dataset_name == 'blobs':\n",
    "        dataset = BlobsDataset(n_samples=1000, noise=0.01)\n",
    "    elif dataset_name == 'spiral':\n",
    "        dataset = SpiralDataset(n_samples=1000, noise=0.01)\n",
    "    elif dataset_name == 'circles':\n",
    "        dataset = CirclesDataset(n_samples=1000, noise=0.01)\n",
    "\n",
    "\n",
    "\n",
    "    if size == \"skinny\":\n",
    "        model = MLP(2,7,2,2)\n",
    "        model.load_state_dict(torch.load(f'{models_path}/2_wide/mlp_{dataset_name}/model_{epoch}.pth'))\n",
    "    elif size == \"overfit\":\n",
    "        model = MLP(2,7,2,1)\n",
    "        model.load_state_dict(torch.load(f'{models_path}/overfit/mlp_{dataset_name}/model_{epoch}.pth'))\n",
    "        final_layer = model.layers[-1]\n",
    "        model.layers = model.layers[:-1]\n",
    "    elif size == \"vanilla\":\n",
    "        model = MLP(2,7,10,2)\n",
    "        model.load_state_dict(torch.load(f'{models_path}/vanilla/mlp_{dataset_name}/model_{epoch}.pth'))\n",
    "\n",
    "    os.makedirs(f'figures/{epoch}', exist_ok=True)\n",
    "    os.makedirs(f'figures/{epoch}/{dataset_name}', exist_ok=True)\n",
    "    os.makedirs(f'figures/{epoch}/{dataset_name}/{size}', exist_ok=True)\n",
    "\n",
    "    local_g_diag_lattice = script.local_plot(model, dataset.X, dataset.y, epoch=epoch, save_path = f\"{dataset_name}/{size}\", N=50, plot_method='lattice_diagonal')\n",
    "    local_g_lattice = script.local_plot(model, dataset.X, dataset.y, epoch=epoch, save_path = f\"{dataset_name}/{size}\", N=15, plot_method='lattice')\n",
    "    local_g_surface = script.local_plot(model, dataset.X, dataset.y, epoch=epoch, save_path = f\"{dataset_name}/{size}\", N=50, plot_method='surface')\n",
    "    \n",
    "    pullback_g_diag_lattice, grid_diag_lattice = script.pullback_plot(model, dataset.X, dataset.y, epoch=epoch, save_path = f\"{dataset_name}/{size}\", N=50, plot_method='lattice_diagonal')\n",
    "    pullback_g_lattice, grid_lattice = script.pullback_plot(model, dataset.X, dataset.y, epoch=epoch, save_path = f\"{dataset_name}/{size}\", N=15, plot_method='lattice')\n",
    "    pullback_g_surface, grid_surface = script.pullback_plot(model, dataset.X, dataset.y, epoch=epoch, save_path = f\"{dataset_name}/{size}\", N=50, plot_method='surface')\n",
    "\n",
    "    full_pullback_g_diag_lattice, full_grid_diag_lattice = script.full_pullback_plot(model, dataset.X, dataset.y, epoch=epoch, save_path = f\"{dataset_name}/{size}\", N=50, plot_method='lattice_diagonal')\n",
    "    full_pullback_g_lattice, full_grid_lattice = script.full_pullback_plot(model, dataset.X, dataset.y, epoch=epoch, save_path = f\"{dataset_name}/{size}\", N=15, plot_method='lattice')\n",
    "    full_pullback_g_surface, full_grid_surface = script.full_pullback_plot(model, dataset.X, dataset.y, epoch=epoch, save_path = f\"{dataset_name}/{size}\", N=50, plot_method='surface')\n",
    "\n",
    "    cosine_score = compute_cosine_score(pullback_g_lattice, full_pullback_g_lattice)\n",
    "    magnitude_score = compute_magnitude_score(pullback_g_lattice, full_pullback_g_lattice)\n",
    "    script.plot_err_heatmap(cosine_score, magnitude_score, full_grid_lattice, model, dataset.X, dataset.y, N=15, save_name=f\"{dataset_name}/{size}\", epoch=epoch)\n",
    "    script.violin_plot(cosine_score, magnitude_score, save_name=f\"{dataset_name}/{size}\", epoch=epoch)\n"
   ]
  },
  {
   "cell_type": "code",
   "execution_count": 4,
   "metadata": {},
   "outputs": [
    {
     "name": "stderr",
     "output_type": "stream",
     "text": [
      "/Users/maxpowers/Library/Mobile Documents/com~apple~CloudDocs/MSc Thesis/Dissertation.nosync/experiments/assumptions/metric_comparison/../../../experiments/assumptions/metric_comparison/script.py:81: RuntimeWarning: divide by zero encountered in divide\n",
      "  direction_metric = direction_metric/np.linalg.norm(direction_metric, axis=1).reshape(-1, 1)\n"
     ]
    }
   ],
   "source": [
    "dataset_name = 'moon'\n",
    "size = \"skinny\"\n",
    "epoch = 199\n",
    "iter_ = [('moon', 'skinny', 199), ('moon', 'skinny', 5), ('moon', 'overfit', 5), ('moon', 'overfit', 199), ('moon', 'overfit', 499), ('moon', 'overfit', 999), ('moon', 'overfit', 4999), ('moon', 'overfit', 9999)]\n",
    "for (dataset_name, size, epoch) in iter_:\n",
    "    _iter_plot(dataset_name, size, epoch)\n"
   ]
  },
  {
   "cell_type": "code",
   "execution_count": null,
   "metadata": {},
   "outputs": [],
   "source": []
  }
 ],
 "metadata": {
  "kernelspec": {
   "display_name": "DL",
   "language": "python",
   "name": "python3"
  },
  "language_info": {
   "codemirror_mode": {
    "name": "ipython",
    "version": 3
   },
   "file_extension": ".py",
   "mimetype": "text/x-python",
   "name": "python",
   "nbconvert_exporter": "python",
   "pygments_lexer": "ipython3",
   "version": "3.10.9"
  },
  "orig_nbformat": 4
 },
 "nbformat": 4,
 "nbformat_minor": 2
}
