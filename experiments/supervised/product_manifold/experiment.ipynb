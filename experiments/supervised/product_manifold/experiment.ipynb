{
 "cells": [
  {
   "attachments": {},
   "cell_type": "markdown",
   "metadata": {},
   "source": [
    "Here we test the idea that product manifolds can be built from Riemannian metrics. We have two approaches:\n",
    "1. Train a neural network, generate a Riemann metric $g$ in the output space, and pull it back to the input space\n",
    "2. Use the following equation with $\\mathbf{x}$ as your dataset,\n",
    "$$\n",
    "\\frac{\\text{d}}{\\text{d}t} \\mathbf{x} = -g^{inv} \\nabla Tr(g(x))\n",
    "$$\n",
    "for $T_max$ time steps. This should lead to convergence along the decision boundary.\n",
    "4. Seperability is determined by the maximum margin; the number of time steps require for Euclidean $\\varepsilon$ converge, i.e.\n",
    "$$\n",
    "||\\mathbf{x}_{t+1} - \\mathbf{x}_t||^2_2 < \\varepsilon.\n",
    "$$\n",
    "\n",
    "OR\n",
    "\n",
    "4. The seperability is determined by the "
   ]
  },
  {
   "cell_type": "code",
   "execution_count": 1,
   "metadata": {},
   "outputs": [],
   "source": [
    "import sys\n",
    "sys.path.append(\"../../../\")\n",
    "\n",
    "import torch\n",
    "import numpy as np\n",
    "import os\n",
    "import tqdm\n",
    "\n",
    "from riemannian_geometry.computations.pullback_metric import pullback_all_metrics, pullback_ricci_tensor\n",
    "from models.supervised.mlp.model import MLP\n",
    "from models.data.sklearn_datasets import MoonDataset, SpiralDataset, BlobsDataset, CirclesDataset\n",
    "\n",
    "models_path = \"../../../models/supervised/mlp/saved_models\"\n"
   ]
  },
  {
   "cell_type": "code",
   "execution_count": 2,
   "metadata": {},
   "outputs": [
    {
     "data": {
      "text/plain": [
       "<torch._C.Generator at 0x7fdfcb2cc470>"
      ]
     },
     "execution_count": 2,
     "metadata": {},
     "output_type": "execute_result"
    }
   ],
   "source": [
    "np.random.seed(2)\n",
    "torch.manual_seed(2)"
   ]
  },
  {
   "cell_type": "code",
   "execution_count": 3,
   "metadata": {},
   "outputs": [],
   "source": [
    "mode = 'moon'\n",
    "size = \"skinny\"\n",
    "epoch = 199\n",
    "\n",
    "if mode == 'moon':\n",
    "    dataset = MoonDataset(n_samples=1000, noise=0.01)\n",
    "elif mode == 'blobs':\n",
    "    dataset = BlobsDataset(n_samples=1000, noise=0.01)\n",
    "elif mode == 'spiral':\n",
    "    dataset = SpiralDataset(n_samples=1000, noise=0.01)\n",
    "elif mode == 'circles':\n",
    "    dataset = CirclesDataset(n_samples=1000, noise=0.01)\n",
    "\n",
    "if size == \"skinny\":\n",
    "    model = MLP(2,7,2,2)\n",
    "    full_path = f'{models_path}/2_wide/mlp_{mode}/model_{epoch}.pth'\n",
    "elif size == \"overfit\":\n",
    "    model = MLP(2,7,2,1)\n",
    "    full_path = f'{models_path}/overfit/mlp_{mode}/model_{epoch}.pth'\n",
    "else:\n",
    "    model = MLP(2,7,10,2)\n",
    "    full_path = f'{models_path}/vanilla/mlp_{mode}/model_{epoch}.pth'\n",
    "model.load_state_dict(torch.load(full_path))\n",
    "if size == \"overfit\":\n",
    "    model.layers = model.layers[:-1]\n",
    "    model.num_layers = len(model.layers)"
   ]
  },
  {
   "cell_type": "code",
   "execution_count": 4,
   "metadata": {},
   "outputs": [
    {
     "name": "stdout",
     "output_type": "stream",
     "text": [
      "Rejected 249 points\n"
     ]
    }
   ],
   "source": [
    "N=50\n",
    "wrt = \"output_wise\"\n",
    "sigma = 0.05\n",
    "\n",
    "X = torch.from_numpy(dataset.X).float()\n",
    "labels = dataset.y\n",
    "\n",
    "\n",
    "model.forward(X, save_activations=True)\n",
    "\n",
    "activations = model.get_activations()\n",
    "activations_np = [a.detach().numpy() for a in activations]\n",
    "g, dg, ddg, surface = pullback_all_metrics(model, activations, N, wrt=wrt, method=\"manifold\", sigma=sigma, normalised=True)\n",
    "    "
   ]
  },
  {
   "cell_type": "code",
   "execution_count": 8,
   "metadata": {},
   "outputs": [
    {
     "name": "stdout",
     "output_type": "stream",
     "text": [
      "[[0.98378659 0.50388998]\n",
      " [0.68324005 0.01895585]] [[[-0.88946763 -0.53716511]\n",
      "  [ 0.45545618  0.1386256 ]]\n",
      "\n",
      " [[-0.21024178 -1.32743963]\n",
      "  [ 0.32692527  1.62574608]]] [-0.75084203  1.4155043 ]\n"
     ]
    }
   ],
   "source": [
    "g = np.random.rand(2,2)\n",
    "dg = np.random.randn(2,2,2)\n",
    "tr_dg = np.trace(dg, axis1=1, axis2=2)\n"
   ]
  },
  {
   "cell_type": "code",
   "execution_count": 6,
   "metadata": {},
   "outputs": [
    {
     "name": "stdout",
     "output_type": "stream",
     "text": [
      "8\n"
     ]
    }
   ],
   "source": [
    "def flow_solution(g, surface, T_max, delta_t):\n",
    "    \"\"\"\n",
    "    g: metric tensor defined at each point on the surface\n",
    "    dg: derivative of the metric tensor defined at each point on the surface\n",
    "    input_points: surface of points\n",
    "    T_max: maximum time\n",
    "    delta_t: step size\n",
    "    \"\"\"\n",
    "    reference_frame = surface.copy()\n",
    "    g_inv = np.linalg.inv(g)\n",
    "    tr_g = np.trace(g, axis1=1, axis2=2)\n",
    "\n",
    "    def _update_step(points, g_inv, dg, delta_t):\n",
    "        return points + delta_t * np.einsum('nij,nj->ni', g_inv, dg)\n",
    "    \n",
    "    def _interpolate(reference_points, points):\n",
    "        \n",
    "\n",
    "    for t in range(T_max):\n",
    "    return points"
   ]
  },
  {
   "cell_type": "code",
   "execution_count": null,
   "metadata": {},
   "outputs": [],
   "source": []
  }
 ],
 "metadata": {
  "kernelspec": {
   "display_name": "DL",
   "language": "python",
   "name": "python3"
  },
  "language_info": {
   "codemirror_mode": {
    "name": "ipython",
    "version": 3
   },
   "file_extension": ".py",
   "mimetype": "text/x-python",
   "name": "python",
   "nbconvert_exporter": "python",
   "pygments_lexer": "ipython3",
   "version": "3.10.9"
  },
  "orig_nbformat": 4
 },
 "nbformat": 4,
 "nbformat_minor": 2
}
